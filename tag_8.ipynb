{
 "cells": [
  {
   "cell_type": "markdown",
   "id": "fd8126ce-c073-4f68-a266-d6ed74b8e917",
   "metadata": {},
   "source": [
    "# Tag 8"
   ]
  },
  {
   "cell_type": "markdown",
   "id": "150c78a6-4a16-4cb1-9ed8-85a75cf6eb71",
   "metadata": {},
   "source": [
    "## 26\n",
    "\n",
    "n = 0 -> 1212,75 €\n",
    "\n",
    "5% Zinsen\n",
    "\n",
    "### a)\n",
    "\n",
    "$1212,75 * (1+\\frac{5}{100})^{-2}$\n",
    "\n",
    "$= 1212,75 * 1,05^{-2}$"
   ]
  },
  {
   "cell_type": "code",
   "execution_count": 1,
   "id": "57d9f95e-bf03-4dbd-97b8-9e2196ae1a3c",
   "metadata": {},
   "outputs": [
    {
     "data": {
      "text/plain": [
       "1100.0"
      ]
     },
     "execution_count": 1,
     "metadata": {},
     "output_type": "execute_result"
    }
   ],
   "source": [
    "1212.75 * 1.05**-2"
   ]
  },
  {
   "cell_type": "markdown",
   "id": "54ffe20f-ad6c-457d-bb22-8fdf3d22f3a0",
   "metadata": {},
   "source": [
    "### b)\n",
    "\n",
    "$= 1212,75 * 1,05^3$"
   ]
  },
  {
   "cell_type": "code",
   "execution_count": 2,
   "id": "83e00d69-a548-4d34-899c-f8703aff8c5a",
   "metadata": {},
   "outputs": [
    {
     "data": {
      "text/plain": [
       "1403.9097187500001"
      ]
     },
     "execution_count": 2,
     "metadata": {},
     "output_type": "execute_result"
    }
   ],
   "source": [
    "1212.75 * 1.05**3"
   ]
  },
  {
   "cell_type": "markdown",
   "id": "69a6e430-e235-4111-8cba-3862fbaaf5db",
   "metadata": {},
   "source": [
    "## 27\n",
    "\n",
    "Es steigt jährlich um einen festen Prozentsatz. Also Potenzfunktion der Form $a_0*(1+\\frac{p}{100})^n$\n",
    "\n",
    "Für $n=2$ war der Factor $1+\\frac{8,16}{100}$. $a_n$ ist gar nicht relevant.\n",
    "\n",
    "$(1+\\frac{p}{100})^2=1+\\frac{8,16}{100}$\n",
    "\n",
    "$\\Leftrightarrow (1+\\frac{p}{100})^2=1,0816 | \\sqrt{.}$\n",
    "\n",
    "$\\Leftrightarrow 1+\\frac{p}{100}=\\sqrt{1,0816} | -1$\n",
    "\n",
    "$\\Leftrightarrow \\frac{p}{100}=\\sqrt{1,0816} - 1 | *100$\n",
    "\n",
    "$\\Leftrightarrow p=100*\\sqrt{1,0816} - 100$"
   ]
  },
  {
   "cell_type": "code",
   "execution_count": 3,
   "id": "5ae9343b-5e33-4637-b268-8b65a28c2e9a",
   "metadata": {},
   "outputs": [
    {
     "data": {
      "text/plain": [
       "4.0"
      ]
     },
     "execution_count": 3,
     "metadata": {},
     "output_type": "execute_result"
    }
   ],
   "source": [
    "import math\n",
    "100 * math.sqrt(1.0816)-100"
   ]
  },
  {
   "cell_type": "markdown",
   "id": "98b42d5c-49fe-4064-9f89-722d5a22a618",
   "metadata": {},
   "source": [
    "## 28\n",
    "\n",
    "Expontentielles Wachstum: $1g * 3^n$\n",
    "\n",
    "n|m\n",
    "-|-\n",
    "0.5|$1g * 3^{0.5} = \\sqrt{3}g$\n",
    "1|$1g * 3^1 = 3g$\n",
    "2|$1g * 3^2 = 9g$\n",
    "3|$1g * 3^3 = 27g$"
   ]
  },
  {
   "cell_type": "code",
   "execution_count": 4,
   "id": "728e3ade-a888-4628-96fa-b1c1d2fc310e",
   "metadata": {},
   "outputs": [
    {
     "data": {
      "text/plain": [
       "1.7320508075688772"
      ]
     },
     "execution_count": 4,
     "metadata": {},
     "output_type": "execute_result"
    }
   ],
   "source": [
    "math.sqrt(3)"
   ]
  },
  {
   "cell_type": "markdown",
   "id": "b65097c3-6532-4507-ac6e-63fe00b34c5f",
   "metadata": {},
   "source": [
    "## 29\n",
    "\n",
    "Expontentieller Abfall. Bei fünf meter soll der Faktor 0.5 sein. Daher die Tiefe in Meter $m$ durch fünf geteilt.\n",
    "\n",
    "$100 \\% * (\\frac{1}{2})^\\frac{m}{5}$\n",
    "\n",
    "Gilt nun $100 \\% * (\\frac{1}{2})^\\frac{3}{5} \\geq 0.65$?"
   ]
  },
  {
   "cell_type": "code",
   "execution_count": 5,
   "id": "01d9a75d-ff5e-4ac3-8864-f3ad1b7b0b18",
   "metadata": {},
   "outputs": [
    {
     "data": {
      "text/plain": [
       "0.6597539553864471"
      ]
     },
     "execution_count": 5,
     "metadata": {},
     "output_type": "execute_result"
    }
   ],
   "source": [
    "0.5**(3/5)"
   ]
  },
  {
   "cell_type": "markdown",
   "id": "f3fdd07e-3680-44b5-baaf-5c2afa24160b",
   "metadata": {},
   "source": [
    "Das Licht reicht gerade noch so."
   ]
  },
  {
   "cell_type": "markdown",
   "id": "a934f760-0dfd-402e-9dbb-749bc5993497",
   "metadata": {},
   "source": [
    "# 5.2\n",
    "\n",
    "## 1\n",
    "\n",
    "Bestimmen der Basis:\n",
    "\n",
    "$1 mg * x^1 = 0,75 mg | /mg$\n",
    "\n",
    "$x = 0,75$\n",
    "\n",
    "Also gilt: $1 mg * 0,75^h$\n",
    "\n",
    "### a)\n",
    "\n",
    "$1 mg * 0,75^h < 0.5 mg | /(1 mg)$\n",
    "\n",
    "$0,75^h < 0.5 | \\log_{0.75}(.)$\n",
    "\n",
    "$\\log_{0.75}(x)$ ist eine streng monoton fallende Funktion. Darum kehrt sich die Ungleichung um.\n",
    "\n",
    "$\\log_{0.75}(0,75^h) > \\log_{0.75}(0.5)$\n",
    "\n",
    "$h * \\log_{0.75}(0,75) > \\frac{\\lg(0.5)}{\\lg(0.75)}$\n",
    "\n",
    "$h > \\frac{\\lg(0.5)}{\\lg(0.75)}$"
   ]
  },
  {
   "cell_type": "code",
   "execution_count": 6,
   "id": "7d987d06-e353-443f-99d6-92597bbea715",
   "metadata": {},
   "outputs": [
    {
     "data": {
      "text/plain": [
       "2.409420839653209"
      ]
     },
     "execution_count": 6,
     "metadata": {},
     "output_type": "execute_result"
    }
   ],
   "source": [
    "math.log(0.5)/math.log(0.75)"
   ]
  },
  {
   "cell_type": "markdown",
   "id": "11fafeef-264c-4cec-85a9-75ccf9a8b8fd",
   "metadata": {},
   "source": [
    "### b)\n",
    "\n",
    "$h$|$0,75^h$\n",
    "-|-\n",
    "1|$0,75$\n",
    "2|$0.5625$\n",
    "3|$0.421875$\n",
    "5|$0.2373046875$"
   ]
  },
  {
   "cell_type": "code",
   "execution_count": 7,
   "id": "e67e625c-3c19-4f49-9af3-1ba19d5c6036",
   "metadata": {},
   "outputs": [
    {
     "data": {
      "text/plain": [
       "0.5625"
      ]
     },
     "execution_count": 7,
     "metadata": {},
     "output_type": "execute_result"
    }
   ],
   "source": [
    "0.75**2"
   ]
  },
  {
   "cell_type": "code",
   "execution_count": 8,
   "id": "3b9ea6f4-2c17-4072-be91-6b9f0a6bb21a",
   "metadata": {},
   "outputs": [
    {
     "data": {
      "text/plain": [
       "0.421875"
      ]
     },
     "execution_count": 8,
     "metadata": {},
     "output_type": "execute_result"
    }
   ],
   "source": [
    "0.75**3"
   ]
  },
  {
   "cell_type": "code",
   "execution_count": 9,
   "id": "04c52f43-20a0-4a3e-9eac-45aa14ea38f4",
   "metadata": {},
   "outputs": [
    {
     "data": {
      "text/plain": [
       "0.2373046875"
      ]
     },
     "execution_count": 9,
     "metadata": {},
     "output_type": "execute_result"
    }
   ],
   "source": [
    "0.75**5"
   ]
  },
  {
   "cell_type": "markdown",
   "id": "e5838aa6-7237-4e67-8674-0ee7f2c2a88b",
   "metadata": {},
   "source": [
    "## 2\n",
    "\n",
    "Der Blutalkoholgehalt sinkt um einen **festen** Wert, also **linear**.\n",
    "\n",
    "### a)\n",
    "\n",
    "$2,3-0.2*h<0.5 |- 2,3$\n",
    "\n",
    "$\\Leftrightarrow -0.2*h<-1,8 | *(-5)$\n",
    "\n",
    "$\\Leftrightarrow h > 9$\n",
    "\n",
    "Ab 12 Uhr ist er unter $0,5 \\textperthousand$.\n",
    "\n",
    "$2,3-0.2*h<=0.0 |- 2,3$\n",
    "\n",
    "$\\Leftrightarrow -0.2*h<-2,3 | *(-5)$\n",
    "\n",
    "$\\Leftrightarrow h > 11,5$\n",
    "\n",
    "Ab 14:30 Uhr ist er $0 \\textperthousand$.\n",
    "\n",
    "### b)\n",
    "\n",
    "Der Abbau von Blutalkohol erfolgt linear. Jod hingegen exponentiell."
   ]
  },
  {
   "cell_type": "markdown",
   "id": "7aa8d309-cef7-4ada-bced-b64bd7c8ab2e",
   "metadata": {},
   "source": [
    "## 3\n",
    "\n",
    "$135 ppm * (1-\\frac{10}{100})^w < 25ppm$\n",
    "\n",
    "$\\Leftrightarrow 135 ppm * 0,9^w < 25ppm | / (135 ppm)$\n",
    "\n",
    "$\\Leftrightarrow 0,9^w < \\frac{25}{135} | \\log_{0.9}(.)$\n",
    "\n",
    "Es wird eine streng monoton fallende Funktion angewendet. Darum kehrt sich das Zeichen um.\n",
    "\n",
    "$\\Leftrightarrow w > \\log_{0.9}(\\frac{25}{135})$\n",
    "\n",
    "$\\Leftrightarrow w > \\frac{\\lg(\\frac{25}{135})}{\\lg(0.9)}$"
   ]
  },
  {
   "cell_type": "code",
   "execution_count": 10,
   "id": "dfda16e4-60dc-4206-9fdf-5354811d8071",
   "metadata": {},
   "outputs": [
    {
     "data": {
      "text/plain": [
       "16.005986142352004"
      ]
     },
     "execution_count": 10,
     "metadata": {},
     "output_type": "execute_result"
    }
   ],
   "source": [
    "math.log(25/135)/math.log(0.9)"
   ]
  },
  {
   "cell_type": "markdown",
   "id": "b569d8fd-c911-45e7-bc83-daedf6ada834",
   "metadata": {},
   "source": [
    "## 4)\n",
    "\n",
    "Nein. Der Factor ist $(1+\\frac{4}{100})^{25} = 1.04^{25}$"
   ]
  },
  {
   "cell_type": "code",
   "execution_count": 11,
   "id": "1ad37304-bb1d-4031-9021-50089592e94d",
   "metadata": {},
   "outputs": [
    {
     "data": {
      "text/plain": [
       "2.665836331487422"
      ]
     },
     "execution_count": 11,
     "metadata": {},
     "output_type": "execute_result"
    }
   ],
   "source": [
    "1.04**25"
   ]
  },
  {
   "cell_type": "markdown",
   "id": "580430b4-b3f0-4289-8cb9-0e77de4d5392",
   "metadata": {},
   "source": [
    "## 22\n",
    "\n",
    "### a)\n",
    "\n",
    "$\\log_39 = \\log_33^2 = 2*\\log_33=2$\n",
    "### b)\n",
    "\n",
    "$\\log_{13}169=\\log_{13}13^2=2$\n",
    "\n",
    "### c)\n",
    "\n",
    "$\\log_3\\frac{1}{9} = \\log_33^{-2}=-2$\n",
    "\n",
    "### d)\n",
    "\n",
    "$\\log_51 = \\log_55^0=0$\n",
    "\n",
    "### e)\n",
    "\n",
    "$\\log_77^{51} = 51$"
   ]
  },
  {
   "cell_type": "markdown",
   "id": "285f64fa-2d5c-4022-b50a-ef6dc6f04631",
   "metadata": {},
   "source": [
    "# 5.3\n",
    "\n",
    "## 1\n",
    "\n",
    "### a)\n",
    "\n",
    "$\\log_5(\\frac{\\sqrt[3]{5}}{\\sqrt{5}})$\n",
    "\n",
    "$= \\log_5(\\sqrt[3]{5}) - \\log_5(\\sqrt{5})$\n",
    "\n",
    "$= \\log_5(5^\\frac{1}{3}) - \\log_5(5^\\frac{1}{2})$\n",
    "\n",
    "$= \\frac{1}{3} - \\frac{1}{2}$\n",
    "\n",
    "$= \\frac{2}{6} - \\frac{3}{6}$\n",
    "\n",
    "$= - \\frac{1}{6}$\n",
    "\n",
    "### b)\n",
    "\n",
    "$\\log_\\frac{1}{4}(\\sqrt{2})$\n",
    "\n",
    "$= \\frac{\\log_2(\\sqrt{2})}{\\log_2(\\frac{1}{4})}$\n",
    "\n",
    "$= \\frac{\\log_2(2^{\\frac{1}{2}})}{\\log_2(2^{-2})}$\n",
    "\n",
    "$= \\frac{\\frac{1}{2}*\\log_2(2)}{-2*\\log_2(2)}$\n",
    "\n",
    "$= \\frac{\\frac{1}{2}}{-2}$\n",
    "\n",
    "$= -\\frac{1}{4}$"
   ]
  },
  {
   "cell_type": "code",
   "execution_count": 12,
   "id": "3cbe3801-d0de-4d97-8309-5f6baa798828",
   "metadata": {},
   "outputs": [
    {
     "data": {
      "text/plain": [
       "10150.562500000002"
      ]
     },
     "execution_count": 12,
     "metadata": {},
     "output_type": "execute_result"
    }
   ],
   "source": [
    "10000*(1 + 0.03 * 3/12)**2"
   ]
  },
  {
   "cell_type": "markdown",
   "id": "ae42cd71-a908-4e3a-b69c-122ce7480897",
   "metadata": {},
   "source": [
    "$log_{\\sqrt{7}}(\\frac{7}{\\sqrt[3]{7}})$\n",
    "\n",
    "$log_4{64}$\n",
    "\n",
    "$log_8(2^7)$"
   ]
  },
  {
   "cell_type": "markdown",
   "id": "372e2f00-5232-4be0-afdd-b9f371e51869",
   "metadata": {},
   "source": [
    "$log_{\\sqrt{7}}(\\frac{7}{\\sqrt[3]{7}})$"
   ]
  },
  {
   "cell_type": "markdown",
   "id": "9733c724-9aad-42bb-95f4-80c711a818f9",
   "metadata": {},
   "source": [
    "$\\frac{log_{7}(\\frac{7}{\\sqrt[3]{7}})}{log_7\\sqrt{7}}$"
   ]
  },
  {
   "cell_type": "markdown",
   "id": "1cc4efee-a128-405f-a594-7de09c31bc15",
   "metadata": {},
   "source": [
    "$\\frac{log_{7}(\\frac{7}{7^{\\frac{1}{3}}})}{log_7(7^{\\frac{1}{2}})}$"
   ]
  },
  {
   "cell_type": "markdown",
   "id": "af8e4388-6205-4a82-b6cd-4988914361a6",
   "metadata": {},
   "source": [
    "$\\frac{log_{7}(7^{\\frac{2}{3}})}{log_7(7^{\\frac{1}{2}})}$"
   ]
  },
  {
   "cell_type": "markdown",
   "id": "ba71c7ea-c5ed-4821-ac3d-0dd96f17f2a4",
   "metadata": {},
   "source": [
    "$\\frac{\\frac{2}{3}}{\\frac{1}{2}}$"
   ]
  },
  {
   "cell_type": "markdown",
   "id": "3e6876a2-425b-46ac-9bf4-f760b0c9517d",
   "metadata": {},
   "source": [
    "$\\frac{2}{3}*2$"
   ]
  },
  {
   "cell_type": "markdown",
   "id": "6eb578f3-d158-4409-a0f8-02242d2d3147",
   "metadata": {},
   "source": [
    "$\\frac{4}{3}$"
   ]
  },
  {
   "cell_type": "code",
   "execution_count": 13,
   "id": "06707ef5-a81a-4c2e-86f6-33fe984bd1f0",
   "metadata": {},
   "outputs": [
    {
     "data": {
      "text/plain": [
       "3.0"
      ]
     },
     "execution_count": 13,
     "metadata": {},
     "output_type": "execute_result"
    }
   ],
   "source": [
    "math.log(64)/math.log(4)"
   ]
  },
  {
   "cell_type": "code",
   "execution_count": 14,
   "id": "6f7ccda9-cfbb-45d9-9b36-3ef1252c1198",
   "metadata": {},
   "outputs": [
    {
     "data": {
      "text/plain": [
       "2.3333333333333335"
      ]
     },
     "execution_count": 14,
     "metadata": {},
     "output_type": "execute_result"
    }
   ],
   "source": [
    "math.log(2**7)/math.log(8)"
   ]
  },
  {
   "cell_type": "markdown",
   "id": "c5286292-7047-4afd-ba12-985bffaf5d27",
   "metadata": {},
   "source": [
    "$log_{\\frac{1}{3}}(9)$"
   ]
  }
 ],
 "metadata": {
  "kernelspec": {
   "display_name": "Python 3 (ipykernel)",
   "language": "python",
   "name": "python3"
  },
  "language_info": {
   "codemirror_mode": {
    "name": "ipython",
    "version": 3
   },
   "file_extension": ".py",
   "mimetype": "text/x-python",
   "name": "python",
   "nbconvert_exporter": "python",
   "pygments_lexer": "ipython3",
   "version": "3.12.10"
  }
 },
 "nbformat": 4,
 "nbformat_minor": 5
}
