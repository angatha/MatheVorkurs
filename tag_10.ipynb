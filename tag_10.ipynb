{
 "cells": [
  {
   "cell_type": "markdown",
   "id": "4a5f928e-3778-407a-bc41-683edae413d5",
   "metadata": {},
   "source": [
    "# Tag 10"
   ]
  },
  {
   "cell_type": "code",
   "execution_count": 1,
   "id": "b00355e4-3c9a-4341-801e-221a0898abee",
   "metadata": {},
   "outputs": [],
   "source": [
    "from math import pi, sin, cos, tan, asin, acos, atan, sqrt, degrees as deg, radians as rad"
   ]
  },
  {
   "cell_type": "markdown",
   "id": "c90b9ac1-5862-4401-ac0c-f4973aa6abc3",
   "metadata": {},
   "source": [
    "Sinussatz:\n",
    "\n",
    "$\\frac{a}{\\sin(\\alpha)} = \\frac{b}{\\sin(\\beta)} = \\frac{c}{\\sin(\\gamma)}$\n",
    "\n",
    "bzw. Nenner und Zähler vertauscht.\n",
    "\n",
    "Cosinussatz:\n",
    "\n",
    "$c^2 = a^2+b^2-2ab\\cos(\\gamma)$\n",
    "\n",
    "bzw.\n",
    "$a^2 = b^2+c^2-2ab\\cos(\\alpha)$, \n",
    "$b^2 = a^2+c^2-2ab\\cos(\\beta)$\n",
    "\n",
    "https://www.wolframalpha.com/input?i=solve+a%5E2+%3D+b%5E2%2Bc%5E2+-2*a*b*cos%28alpha%29+for+b\n",
    "\n",
    "## 41\n",
    "\n",
    "### a)\n",
    "\n",
    "$b = 161m, c=117m, \\gamma=28,1°$\n",
    "\n",
    "Zwei Seiten und gegenüberliegenden Winkel -> Sinussatz\n",
    "\n",
    "$\\frac{\\sin(\\beta)}{b} = \\frac{\\sin(\\gamma)}{c} | *b$\n",
    "\n",
    "$\\Leftrightarrow \\sin(\\beta) = \\frac{b\\sin(\\gamma)}{c} | \\sin^{-1}(.)$\n",
    "\n",
    "$\\Leftrightarrow \\beta = \\sin^{-1}(\\frac{b\\sin(\\gamma)}{c})$"
   ]
  },
  {
   "cell_type": "code",
   "execution_count": 2,
   "id": "051d3e8f-1ab6-42c8-b250-8af88aa9af3b",
   "metadata": {},
   "outputs": [
    {
     "data": {
      "text/plain": [
       "40.40185487354103"
      ]
     },
     "execution_count": 2,
     "metadata": {},
     "output_type": "execute_result"
    }
   ],
   "source": [
    "b = 161\n",
    "c = 117\n",
    "gamma = 28.1\n",
    "\n",
    "beta = deg(asin(b*sin(rad(gamma))/c))\n",
    "beta"
   ]
  },
  {
   "cell_type": "code",
   "execution_count": 3,
   "id": "4aba885a-10c8-4255-b3c7-0c579520f777",
   "metadata": {},
   "outputs": [
    {
     "data": {
      "text/plain": [
       "111.49814512645898"
      ]
     },
     "execution_count": 3,
     "metadata": {},
     "output_type": "execute_result"
    }
   ],
   "source": [
    "alpha = 180 - beta - gamma\n",
    "alpha"
   ]
  },
  {
   "cell_type": "markdown",
   "id": "5eacab4c-8a9f-4717-a437-9fe0f36e839e",
   "metadata": {},
   "source": [
    "Sinussatz für a\n",
    "\n",
    "$\\frac{a}{\\sin(\\alpha)} = \\frac{b}{\\sin(\\beta)} | * \\sin(\\alpha)$\n",
    "\n",
    "$\\Leftrightarrow a = \\frac{b\\sin(\\alpha)}{\\sin(\\beta)}$"
   ]
  },
  {
   "cell_type": "code",
   "execution_count": 4,
   "id": "4fbb1364-0aa6-4722-9208-e2a17f136fa7",
   "metadata": {
    "jupyter": {
     "source_hidden": true
    }
   },
   "outputs": [
    {
     "data": {
      "text/plain": [
       "231.11995246911482"
      ]
     },
     "execution_count": 4,
     "metadata": {},
     "output_type": "execute_result"
    }
   ],
   "source": [
    "a = b * sin(rad(alpha)) / sin(rad(beta))\n",
    "a"
   ]
  },
  {
   "cell_type": "markdown",
   "id": "286f5197-34b3-48de-9e08-e56aacb5003e",
   "metadata": {},
   "source": [
    "$\\beta \\approx 40.40°, \\alpha \\approx 111.50°, a \\approx 231.12m$\n",
    "\n",
    "### b)\n",
    "\n",
    "$a=301mm, b=402mm, c=439mm$\n",
    "\n",
    "Drei Seiten -> Kosinussatz\n",
    "\n",
    "$c^2 = a^2+b^2-2ab\\cos(\\gamma) | - a^2 - b^2$\n",
    "\n",
    "$\\Leftrightarrow c^2 -a^2 - b^2 = -2ab\\cos(\\gamma) | / (-2ab)$\n",
    "\n",
    "$\\Leftrightarrow \\frac{c^2 -a^2 - b^2}{-2ab} = \\cos(\\gamma) | \\arccos(.)$\n",
    "\n",
    "$\\Leftrightarrow \\arccos(\\frac{c^2 -a^2 - b^2}{-2ab}) = \\gamma$"
   ]
  },
  {
   "cell_type": "code",
   "execution_count": 5,
   "id": "e7c1755a-fb90-4529-896f-4ec9ff79fa74",
   "metadata": {
    "jupyter": {
     "source_hidden": true
    }
   },
   "outputs": [
    {
     "data": {
      "text/plain": [
       "75.77102628576468"
      ]
     },
     "execution_count": 5,
     "metadata": {},
     "output_type": "execute_result"
    }
   ],
   "source": [
    "a = 301\n",
    "b = 402\n",
    "c = 439\n",
    "\n",
    "gamma = deg(acos((c**2 - a**2 - b**2)/(-2*a*b)))\n",
    "gamma"
   ]
  },
  {
   "cell_type": "code",
   "execution_count": 6,
   "id": "55a7d484-4475-467d-823a-c562b43f9a41",
   "metadata": {
    "jupyter": {
     "source_hidden": true
    }
   },
   "outputs": [
    {
     "data": {
      "text/plain": [
       "62.576231955043994"
      ]
     },
     "execution_count": 6,
     "metadata": {},
     "output_type": "execute_result"
    }
   ],
   "source": [
    "beta = deg(acos((b**2 - a**2 - c**2)/(-2*a*c)))\n",
    "beta"
   ]
  },
  {
   "cell_type": "code",
   "execution_count": 7,
   "id": "28b6eebc-9a13-4a42-a616-96a04f72e838",
   "metadata": {
    "jupyter": {
     "source_hidden": true
    }
   },
   "outputs": [
    {
     "data": {
      "text/plain": [
       "41.65274175919133"
      ]
     },
     "execution_count": 7,
     "metadata": {},
     "output_type": "execute_result"
    }
   ],
   "source": [
    "alpha = deg(acos((a**2 - b**2 - c**2)/(-2*b*c)))\n",
    "alpha"
   ]
  },
  {
   "cell_type": "markdown",
   "id": "5e0abdb3-01d3-495e-b839-818c6901f53c",
   "metadata": {},
   "source": [
    "$\\alpha \\approx 41.65°, \\beta \\approx 62,58°, \\gamma \\approx 75,77°$"
   ]
  },
  {
   "cell_type": "markdown",
   "id": "9d6f9d96-e323-4696-9646-c210a9fb88a2",
   "metadata": {},
   "source": [
    "## 42\n",
    "\n",
    "Höhe eines gleichseitigen Dreiecks mit Kantenlänge $1$.\n",
    "\n",
    "$1^2 = h^2 + (\\frac{1}{2})^2 | - (\\frac{1}{2})^2$\n",
    "\n",
    "$\\Leftrightarrow 1 - \\frac{1}{4} = h^2 | \\sqrt{.}$\n",
    "\n",
    "$\\Leftrightarrow \\sqrt{\\frac{3}{4}} = h$\n",
    "\n",
    "$\\Leftrightarrow \\frac{\\sqrt{3}}{\\sqrt{4}} = h$\n",
    "\n",
    "$\\Leftrightarrow \\frac{\\sqrt{3}}{2} = h$\n",
    "\n",
    "$\\sin(60°) = \\frac{\\frac{\\sqrt{3}}{2}}{1} = \\frac{\\sqrt{3}}{2}$\n",
    "\n",
    "$\\cos(60°) = \\frac{\\frac{1}{2}}{1} = \\frac{1}{2}$\n",
    "\n",
    "$\\tan(60°) = \\frac{\\sin(60°)}{\\cos(60°)} = \\frac{\\frac{\\sqrt{3}}{2}}{\\frac{1}{2}} = \\sqrt{3}$\n",
    "\n",
    "$\\cot(60°) = \\frac{1}{\\tan(60°)} = \\frac{1}{\\sqrt{3}}$"
   ]
  },
  {
   "cell_type": "markdown",
   "id": "68c76936-24b7-4326-9bc9-a384660d171e",
   "metadata": {},
   "source": [
    "## 43\n",
    "\n",
    "Schnittfläche aus einer Kante und der Raumdiagonale. Dies ist ein Rechteck mit kantenlänge 1 und $\\sqrt{2}$."
   ]
  },
  {
   "cell_type": "code",
   "execution_count": 8,
   "id": "fe2c1f09-ee41-48c4-ada2-2a6e0418c22b",
   "metadata": {},
   "outputs": [
    {
     "data": {
      "text/plain": [
       "54.735610317245346"
      ]
     },
     "execution_count": 8,
     "metadata": {},
     "output_type": "execute_result"
    }
   ],
   "source": [
    "deg(atan(sqrt(2)))"
   ]
  },
  {
   "cell_type": "markdown",
   "id": "29d4256a-ee0a-4017-ac19-b7ba7011ccf8",
   "metadata": {},
   "source": [
    "## 44\n",
    "\n",
    "Winkel zwischen den beiden verschieden langen Seiten eines gleichschenkligen Dreiecks. Die eine Seite hat die Länge 1, die anderen die Höhe des Dreiecks. Aus Aufgabe 42 ist die Höhe bekannt. Nun der Kosinussatz:\n",
    "\n",
    "$\\cos^{-1}(\\frac{(\\frac{\\sqrt{3}}{2})^2 -(\\frac{\\sqrt{3}}{2})^2 - 1}{-2*\\frac{\\sqrt{3}}{2}*1})$\n",
    "\n",
    "$= \\cos^{-1}(\\frac{ - 1}{-2*\\frac{\\sqrt{3}}{2}*1})$\n",
    "\n",
    "$= \\cos^{-1}(\\frac{1}{\\sqrt{3}})$"
   ]
  },
  {
   "cell_type": "code",
   "execution_count": 9,
   "id": "c0128fe4-aa9d-4fda-930c-11a419829f0d",
   "metadata": {},
   "outputs": [
    {
     "data": {
      "text/plain": [
       "54.735610317245346"
      ]
     },
     "execution_count": 9,
     "metadata": {},
     "output_type": "execute_result"
    }
   ],
   "source": [
    "deg(acos(1/sqrt(3)))"
   ]
  },
  {
   "cell_type": "markdown",
   "id": "e695f28c-67aa-465d-a318-4d3971ccaa0a",
   "metadata": {},
   "source": [
    "## 45\n",
    "\n",
    "Gleichschenkliges Dreieck mit $10 cm$ länge der gleichlangen Seite. Der eingeschlossene Winkel ist $\\frac{360°}{8}$. Kosinussatz:\n",
    "\n",
    "$r = \\sqrt{(10 cm)^2 + (10 cm)^2 - 2*(10 cm)*(10 cm)*\\cos(\\frac{360°}{8})}$"
   ]
  },
  {
   "cell_type": "code",
   "execution_count": 10,
   "id": "823d0a66-ff9d-44e0-81ec-0fe8fce8660b",
   "metadata": {},
   "outputs": [
    {
     "data": {
      "text/plain": [
       "7.653668647301795"
      ]
     },
     "execution_count": 10,
     "metadata": {},
     "output_type": "execute_result"
    }
   ],
   "source": [
    "sqrt(10**2 + 10**2 - 2 * 10 * 10 * cos(rad(360/8)))"
   ]
  },
  {
   "cell_type": "markdown",
   "id": "8b8ce3eb-a1a9-4395-99ec-0cc1616d6881",
   "metadata": {},
   "source": [
    "## 46\n",
    "\n",
    "Ein Dreieck mit Seitenlänge eins und die anderen beiden haben die Länge der halben Raumdiagonalen.\n",
    "\n",
    "Die Länge der Raumdiagonale wird mit zwei rechtwinkligen Dreiecken bestimmt.\n",
    "\n",
    "$\\sqrt{1^2 + 1^2}$ für die Diagonale einer Fläche. Die Raumdiagonale ist die Kante des Dreiecks durch diese Diagonale und einer Kante.\n",
    "\n",
    "$\\sqrt{(\\sqrt{1^2 + 1^2})^2 + 1^2}$\n",
    "\n",
    "$= \\sqrt{1^2 + 1^2 + 1^2}$\n",
    "\n",
    "$= \\sqrt{3}$\n",
    "\n",
    "Kosinussatz für den Winkel:\n",
    "\n",
    "$\\cos^{-1}(\\frac{1^2 -(\\frac{\\sqrt{3}}{2})^2 - (\\frac{\\sqrt{3}}{2})^2}{-2*\\sqrt{3}*\\sqrt{3}})$\n",
    "\n",
    "$= \\cos^{-1}(\\frac{1^2 -(\\sqrt{3})^2 - (\\sqrt{3})^2}{-2*\\frac{\\sqrt{3}}{2}*\\frac{\\sqrt{3}}{2}})$\n",
    "\n",
    "$= \\cos^{-1}(\\frac{1 - \\frac{3}{4} - \\frac{3}{4}}{-\\frac{3}{2}})$\n",
    "\n",
    "$= \\cos^{-1}(\\frac{- \\frac{2}{4}}{-\\frac{3}{2}})$\n",
    "\n",
    "$= \\cos^{-1}(\\frac{\\frac{2}{4}}{\\frac{3}{2}})$\n",
    "\n",
    "$= \\cos^{-1}(\\frac{2}{4}*\\frac{2}{3})$\n",
    "\n",
    "$= \\cos^{-1}(\\frac{1}{3})$"
   ]
  },
  {
   "cell_type": "code",
   "execution_count": 11,
   "id": "b4469605-a2f2-4aa3-a9f3-a571b18cfd15",
   "metadata": {},
   "outputs": [
    {
     "data": {
      "text/plain": [
       "70.52877936550931"
      ]
     },
     "execution_count": 11,
     "metadata": {},
     "output_type": "execute_result"
    }
   ],
   "source": [
    "deg(acos(1/3))"
   ]
  },
  {
   "cell_type": "code",
   "execution_count": 12,
   "id": "dd321592-d144-4c8b-aee4-dd6954847d03",
   "metadata": {
    "jupyter": {
     "source_hidden": true
    }
   },
   "outputs": [
    {
     "data": {
      "text/plain": [
       "70.52877936550931"
      ]
     },
     "execution_count": 12,
     "metadata": {},
     "output_type": "execute_result"
    }
   ],
   "source": [
    "180 - 2* deg(atan(sqrt(2)))"
   ]
  },
  {
   "cell_type": "markdown",
   "id": "4f138e83-9553-4da2-9b8c-738d5e1ef57c",
   "metadata": {},
   "source": [
    "## 47\n",
    "\n",
    "Zuerst b)\n",
    "\n",
    "### b)\n",
    "\n",
    "$w = 2\\pi * f = 2\\pi * 1450 \\frac{1}{1 min} * \\frac{1 min}{60 s}$"
   ]
  },
  {
   "cell_type": "code",
   "execution_count": 13,
   "id": "750843f0-b313-4f2d-b90a-791a60db0a85",
   "metadata": {
    "jupyter": {
     "source_hidden": true
    }
   },
   "outputs": [
    {
     "data": {
      "text/plain": [
       "151.84364492350667"
      ]
     },
     "execution_count": 13,
     "metadata": {},
     "output_type": "execute_result"
    }
   ],
   "source": [
    "2 * pi * 1450 / 60"
   ]
  },
  {
   "cell_type": "markdown",
   "id": "78b98f96-4627-4809-99ec-d36e8985a4e6",
   "metadata": {},
   "source": [
    "Die Winkelgeschwindigkeit ist $w \\approx 151.84364492350667\\frac{1}{s}$\n",
    "\n",
    "### a)\n",
    "\n",
    "Der Radius ist $\\frac{2 mm}{2} = 1 mm$\n",
    "\n",
    "$w*r = 2\\pi * f = 2\\pi * 1450 \\frac{1}{1 min} * \\frac{1 min}{60 s} * 1 mm * \\frac{1 m }{10^3 mm}$"
   ]
  },
  {
   "cell_type": "code",
   "execution_count": 14,
   "id": "68742d4c-a71e-462b-801c-f400fb8aad38",
   "metadata": {
    "jupyter": {
     "source_hidden": true
    }
   },
   "outputs": [
    {
     "data": {
      "text/plain": [
       "0.15184364492350666"
      ]
     },
     "execution_count": 14,
     "metadata": {},
     "output_type": "execute_result"
    }
   ],
   "source": [
    "2 * pi * 1450 / 60 * 1 / 10**3"
   ]
  },
  {
   "cell_type": "markdown",
   "id": "cc5f2bf5-23c1-475e-9b3b-a5c186a4daf0",
   "metadata": {},
   "source": [
    "Die Umfangsgeschwindigkeit ist $0.15184364492350666\\frac{m}{s}$"
   ]
  },
  {
   "cell_type": "markdown",
   "id": "88ee7248-1dbd-4445-a64e-f00a8217e92b",
   "metadata": {},
   "source": [
    "## 48\n",
    "\n",
    "### a)\n",
    "\n",
    "$\\cos(58°) = \\frac{\\frac{l}{2}}{\\frac{8,35 ms * 340 \\frac{m}{s}}{2}}$\n",
    "\n",
    "$\\Leftrightarrow \\cos(58°) = \\frac{l}{8,35 ms * 340 \\frac{m}{s}*\\frac{1 s}{1000 ms}}$\n",
    "\n",
    "$\\Leftrightarrow \\cos(58°) = \\frac{l}{2,839m} | * 2.839 m$\n",
    "\n",
    "$\\Leftrightarrow \\cos(58°) * 2.839 m = l$"
   ]
  },
  {
   "cell_type": "code",
   "execution_count": 15,
   "id": "4627bc7b-016e-4e83-baca-f77bdcdae1d3",
   "metadata": {
    "jupyter": {
     "source_hidden": true
    }
   },
   "outputs": [
    {
     "data": {
      "text/plain": [
       "1.5044407911580686"
      ]
     },
     "execution_count": 15,
     "metadata": {},
     "output_type": "execute_result"
    }
   ],
   "source": [
    "8.35 * 0.34 * cos(rad(58))"
   ]
  },
  {
   "cell_type": "markdown",
   "id": "70ad7d1f-fc15-44e1-8cf1-a67124384223",
   "metadata": {},
   "source": [
    "Der Abstand zwischen Sender und Empfänger beträgt 1,5 m.\n",
    "\n",
    "### b)\n",
    "\n",
    "Genau genommen nicht der Abstand. Der wäre 1.4195 m, denn die Gesammtstrecke wurde für a) schon ausgerechnet und muss nur halbiert werden.\n",
    "\n",
    "$1.4195^2 = (\\frac{l}{2})^2 + a^2$\n",
    "\n",
    "$1.4195^2 - (\\frac{l}{2})^2=  a^2 |\\sqrt{.}$\n",
    "\n",
    "$\\sqrt{1.4195^2 - (\\frac{\\cos(58°) * 2.839 m}{2})^2}=  a$\n"
   ]
  },
  {
   "cell_type": "code",
   "execution_count": 16,
   "id": "b09c6309-6f6c-47c9-99e4-a77bbbd664c0",
   "metadata": {},
   "outputs": [
    {
     "data": {
      "text/plain": [
       "1.2038042724940468"
      ]
     },
     "execution_count": 16,
     "metadata": {},
     "output_type": "execute_result"
    }
   ],
   "source": [
    "sqrt((8.35 * 0.34 / 2)**2 - (8.35 * 0.34 * cos(rad(58)) / 2)**2)"
   ]
  },
  {
   "cell_type": "markdown",
   "id": "a7295a74-4319-452f-ae44-4102779fe52d",
   "metadata": {},
   "source": [
    "## 49\n",
    "\n",
    "Es gilt:\n",
    "\n",
    "$\\sin(\\alpha\\pm\\beta) = \\sin(\\alpha)\\cos(\\beta)\\pm\\cos(\\alpha)sin(\\beta)$\n",
    "\n",
    "$\\cos(\\alpha\\pm\\beta) = \\cos(\\alpha)\\cos(\\beta)\\mp\\sin(\\alpha)sin(\\beta)$\n",
    "\n",
    "$\\sin(x)^2 + \\cos(x)^2 = 1$\n",
    "\n",
    "### a)\n",
    "\n",
    "$\\sin(2\\alpha) = \\sin(\\alpha+\\alpha)$\n",
    "\n",
    "$ = \\sin(\\alpha)\\cos(\\alpha)+\\cos(\\alpha)sin(\\alpha)$\n",
    "\n",
    "$ = 2\\sin(\\alpha)\\cos(\\alpha)$\n",
    "\n",
    "### b)\n",
    "\n",
    "$\\cos(2\\alpha) = \\cos(\\alpha+\\alpha)$\n",
    "\n",
    "$ = \\cos(\\alpha)\\cos(\\alpha)-\\sin(\\alpha)sin(\\alpha)$\n",
    "\n",
    "$ = \\cos(\\alpha)^2-\\sin(\\alpha)^2$\n",
    "\n",
    "Ersetzen $\\sin(x)^2 + \\cos(x)^2 = 1 \\Leftrightarrow \\sin(x)^2 = 1 - \\cos(x)^2$\n",
    "\n",
    "$ = \\cos(\\alpha)^2 - (1 - \\cos(x)^2)$\n",
    "\n",
    "$ = 2\\cos(\\alpha)^2 - 1$"
   ]
  }
 ],
 "metadata": {
  "kernelspec": {
   "display_name": "Python 3 (ipykernel)",
   "language": "python",
   "name": "python3"
  },
  "language_info": {
   "codemirror_mode": {
    "name": "ipython",
    "version": 3
   },
   "file_extension": ".py",
   "mimetype": "text/x-python",
   "name": "python",
   "nbconvert_exporter": "python",
   "pygments_lexer": "ipython3",
   "version": "3.12.10"
  }
 },
 "nbformat": 4,
 "nbformat_minor": 5
}
