{
 "cells": [
  {
   "cell_type": "markdown",
   "id": "2921a92c-8ae3-494a-8bdb-5af6bf7c3cac",
   "metadata": {},
   "source": [
    "# Tag 9"
   ]
  },
  {
   "cell_type": "code",
   "execution_count": 1,
   "id": "b0a47c3f-f836-46b5-952a-f9bf5b988401",
   "metadata": {},
   "outputs": [],
   "source": [
    "from math import log, sqrt, floor"
   ]
  },
  {
   "cell_type": "markdown",
   "id": "774116ca-4855-4f83-8c3e-ab12ee8e0e39",
   "metadata": {},
   "source": [
    "## 23\n",
    "\n",
    "### a)\n",
    "\n",
    "$2^x = 64 | \\log_2(.)$\n",
    "\n",
    "$\\Leftrightarrow \\log_22^x = \\log_264$\n",
    "\n",
    "$\\Leftrightarrow x * \\log_22 = \\log_22^6$\n",
    "\n",
    "$\\Leftrightarrow x = 6$"
   ]
  },
  {
   "cell_type": "markdown",
   "id": "502b8551-aed1-41e4-b352-f9a85f8f9ab0",
   "metadata": {},
   "source": [
    "### b)\n",
    "\n",
    "$2*3^x = 162 | /2$\n",
    "\n",
    "$\\Leftrightarrow 3^x = 81 | \\log_3(.)$\n",
    "\n",
    "$\\Leftrightarrow x = 4$"
   ]
  },
  {
   "cell_type": "markdown",
   "id": "1c6f5896-d086-4ad6-81bd-96ea5ddd44aa",
   "metadata": {},
   "source": [
    "### c)\n",
    "\n",
    "$25^x+19 = 24 | - 19$\n",
    "\n",
    "$\\Leftrightarrow 25^x = 5$\n",
    "\n",
    "Hier könnte man schon sehen, dass 5 die Wurzel von 25 ist und den Exponenten angeben.\n",
    "\n",
    "$\\Leftrightarrow 25^x = 5^1$\n",
    "\n",
    "$\\Leftrightarrow 25^x = 5^\\frac{2}{2}$\n",
    "\n",
    "$\\Leftrightarrow 25^x = 5^{2*\\frac{1}{2}}$\n",
    "\n",
    "$\\Leftrightarrow 25^x = (5^2)^\\frac{1}{2}$\n",
    "\n",
    "$\\Leftrightarrow 25^x = 25^\\frac{1}{2} | \\log_{25}(.)$\n",
    "\n",
    "$\\Leftrightarrow x = \\frac{1}{2}$"
   ]
  },
  {
   "cell_type": "markdown",
   "id": "5f7c6c84-f1cd-4d36-9866-e2bfcd8463bf",
   "metadata": {},
   "source": [
    "### d)\n",
    "\n",
    "\n",
    "$\\log_5x=4 | 5^{(.)}$\n",
    "\n",
    "$\\Leftrightarrow 5^{\\log_5x} = 5^4$\n",
    "\n",
    "$b^{(.)}$ und $\\log_b(.)$ sind jeweils die Inverse Operation. Nacheinander auf $x$ angewendet, ergeben sie wieder $x$.\n",
    "\n",
    "$\\Leftrightarrow x = 625$"
   ]
  },
  {
   "cell_type": "markdown",
   "id": "413b5481-6bab-4f8d-bfee-6c3f46f90bd1",
   "metadata": {},
   "source": [
    "### e)\n",
    "\n",
    "$\\log_{0.5}x=3$\n",
    "\n",
    "$\\Leftrightarrow \\log_\\frac{1}{2}x=3 | (\\frac{1}{2})^{(.)}$\n",
    "\n",
    "$\\Leftrightarrow x=(\\frac{1}{2})^3$\n",
    "\n",
    "$\\Leftrightarrow x=\\frac{1}{8}$"
   ]
  },
  {
   "cell_type": "markdown",
   "id": "c87658ce-a20b-4c46-b6fc-319976013285",
   "metadata": {},
   "source": [
    "### f)\n",
    "\n",
    "$\\log_\\frac{1}{4}x=-5 | (\\frac{1}{4})^{(.)}$\n",
    "\n",
    "$\\Leftrightarrow x=(\\frac{1}{4})^{-5}$\n",
    "\n",
    "$\\Leftrightarrow x=4^5$\n",
    "\n",
    "$\\Leftrightarrow x=(2^2)^5$\n",
    "\n",
    "$\\Leftrightarrow x=2^{10}$\n",
    "\n",
    "$\\Leftrightarrow x=1024$"
   ]
  },
  {
   "cell_type": "markdown",
   "id": "3be4073b-7ea9-43d9-98f3-3f9809d8364d",
   "metadata": {},
   "source": [
    "### g)\n",
    "\n",
    "$\\log_x16=4 | x^{(.)}$\n",
    "\n",
    "$\\Leftrightarrow 16=x^4 | \\sqrt{.}$\n",
    "\n",
    "Da wir in den Reelen Zahlen rechnen, ist $x$ eine positive Reelle Zahl. (Daher auch $\\Leftrightarrow$)\n",
    "\n",
    "$\\Leftrightarrow 4=x^2 | \\sqrt{.}$\n",
    "\n",
    "$\\Leftrightarrow 2=x$"
   ]
  },
  {
   "cell_type": "markdown",
   "id": "aa476c12-cdb3-4bdd-94ae-ff1eb61e0b53",
   "metadata": {},
   "source": [
    "### h)\n",
    "\n",
    "$\\log_x\\frac{1}{8}=-3 | x^{(.)}$\n",
    "\n",
    "$\\Leftrightarrow \\frac{1}{8} = x^{-3} | * x^3 * 8$\n",
    "\n",
    "$\\Leftrightarrow x^3 = 8$\n",
    "\n",
    "Auch hier zählt wieder nur die Reelle Lösung.\n",
    "\n",
    "$\\Leftrightarrow x = 2$"
   ]
  },
  {
   "cell_type": "markdown",
   "id": "3327371f-1817-4644-8b3b-ffa80b7928f8",
   "metadata": {},
   "source": [
    "### i)\n",
    "\n",
    "$\\log_x625=4|x^{(.)}$\n",
    "\n",
    "$\\Leftrightarrow 625=x^4$\n",
    "\n",
    "Wieder nur die positive Reelle Lösung.\n",
    "\n",
    "$\\Leftrightarrow 5=x$"
   ]
  },
  {
   "cell_type": "markdown",
   "id": "1fd15f72-395c-48c9-b42a-4c28a6e3d6d8",
   "metadata": {},
   "source": [
    " ## 24\n",
    "\n",
    "### a)\n",
    "\n",
    "$\\log_a2+\\log_a3=\\log_a(2*3)=\\log_a6$"
   ]
  },
  {
   "cell_type": "markdown",
   "id": "f63fd7d8-9ca8-436a-b478-030cc759cf50",
   "metadata": {},
   "source": [
    "### b)\n",
    "\n",
    "$\\log_a12-\\log_a3 = \\log_a\\frac{12}{3} = \\log_a4$"
   ]
  },
  {
   "cell_type": "markdown",
   "id": "65b2e128-195a-4c7e-94d3-52530630581e",
   "metadata": {},
   "source": [
    "### c)\n",
    "\n",
    "$\\log_a7+2*\\log_a13-\\log_a91$\n",
    "\n",
    "$= \\log_a7+\\log_a13^3-\\log_a91$\n",
    "\n",
    "$= \\log_a\\frac{7*13^2}{91}$\n",
    "\n",
    "Nebenrechnung für die Faktoren von 91. Per Hand nur durch versuchen. 91 ist nicht durch zwei (endet nicht auf eine gerade Zahl), drei (quersumme nicht durch 3 Teilbar), fünf (endet nicht auf null oder fünf) teilbar. Bei sieben hat man dann erfolg und 13 ist eine Primzahl. $91 = 7 * 13$\n",
    "\n",
    "$= \\log_a\\frac{7*13^2}{7*13}$\n",
    "\n",
    "$= \\log_a13$"
   ]
  },
  {
   "cell_type": "markdown",
   "id": "25898107-61eb-4a21-b650-a6ffbf85f24c",
   "metadata": {},
   "source": [
    "### d)\n",
    "\n",
    "Variante a)\n",
    "\n",
    "$4*\\log_25 - 3*\\log_22 + \\log_27$\n",
    "\n",
    "$= \\log_25^4 - \\log_22^3 + \\log_27$\n",
    "\n",
    "$= \\log_2\\frac{5^4*7}{2^3}$\n",
    "\n",
    "Variante b)\n",
    "\n",
    "$4*\\log_25 - 3*\\log_22 + \\log_27$\n",
    "\n",
    "$= \\log_25^4 - 3 + \\log_27$\n",
    "\n",
    "$= \\log_2(5^4*7) - 3$"
   ]
  },
  {
   "cell_type": "markdown",
   "id": "dcbb54c4-3bd0-4bc3-a657-5559a2322bc6",
   "metadata": {},
   "source": [
    "### e)\n",
    "\n",
    "$6*\\log_au-(\\log_av+\\log_aw)$\n",
    "\n",
    "$= \\log_au^6-\\log_av-\\log_aw$\n",
    "\n",
    "$= \\log_a\\frac{u^6}{vw}$"
   ]
  },
  {
   "cell_type": "markdown",
   "id": "470db22d-1bb7-4b38-8f09-bbcd07d90d30",
   "metadata": {},
   "source": [
    "### f)\n",
    "\n",
    "$a*\\ln(x)-\\frac{1}{b}*\\ln(y)+c*\\ln(z)$\n",
    "\n",
    "$= \\ln(x^a)-\\ln(y^\\frac{1}{b})+\\ln(z^c)$\n",
    "\n",
    "$= \\ln(x^a)-\\ln(\\sqrt[b]{y})+\\ln(z^c)$\n",
    "\n",
    "$= \\ln(\\frac{x^az^c}{\\sqrt[b]{y}})$"
   ]
  },
  {
   "cell_type": "markdown",
   "id": "ffcd9591-844f-417f-bbc6-16c695b7a9d5",
   "metadata": {},
   "source": [
    "## 25\n",
    "\n",
    "Falls der Taschenrechner keine beliebige Basis kann, kann irgend ein Logarithmus (also beliebige Basis $b$) genommen werden. Es gilt $\\log_mn = log_bn / \\log_bm$\n",
    "\n",
    "### a)"
   ]
  },
  {
   "cell_type": "code",
   "execution_count": 2,
   "id": "31f20474-9309-43b4-875e-c0796f9e7d48",
   "metadata": {},
   "outputs": [
    {
     "data": {
      "text/plain": [
       "4.0875"
      ]
     },
     "execution_count": 2,
     "metadata": {},
     "output_type": "execute_result"
    }
   ],
   "source": [
    "round(log(17, 2), 4)"
   ]
  },
  {
   "cell_type": "markdown",
   "id": "d2e5bd33-fc80-4c4f-932d-a56cb6a4566c",
   "metadata": {},
   "source": [
    "### b)"
   ]
  },
  {
   "cell_type": "code",
   "execution_count": 3,
   "id": "7fef2cb8-324c-4c3f-8943-32cfdc8939ae",
   "metadata": {},
   "outputs": [
    {
     "data": {
      "text/plain": [
       "-6.3259"
      ]
     },
     "execution_count": 3,
     "metadata": {},
     "output_type": "execute_result"
    }
   ],
   "source": [
    "round(log(13, 2/3), 4)"
   ]
  },
  {
   "cell_type": "markdown",
   "id": "af1c8135-a370-442b-b118-d37cce4b0ea1",
   "metadata": {},
   "source": [
    "### c)"
   ]
  },
  {
   "cell_type": "code",
   "execution_count": 4,
   "id": "1fb132a4-23c7-463c-be23-8d8e1f861bee",
   "metadata": {},
   "outputs": [
    {
     "data": {
      "text/plain": [
       "-0.2427"
      ]
     },
     "execution_count": 4,
     "metadata": {},
     "output_type": "execute_result"
    }
   ],
   "source": [
    "round(log(5/7, 4), 4)"
   ]
  },
  {
   "cell_type": "markdown",
   "id": "cbe727c1-10fe-441e-93a0-a3d768eaae30",
   "metadata": {},
   "source": [
    "## 30\n",
    "\n",
    "Exponentielles Wachstum, weil $+4 %$ $* 1.04$ entspricht.\n",
    "\n",
    "$1.04^x = 2 | \\log_{1.04}$\n",
    "\n",
    "$x = \\log_{1.04}2$"
   ]
  },
  {
   "cell_type": "code",
   "execution_count": 5,
   "id": "75866d58-ed00-474f-8018-50d9ae325831",
   "metadata": {
    "jupyter": {
     "source_hidden": true
    }
   },
   "outputs": [
    {
     "name": "stdout",
     "output_type": "stream",
     "text": [
      "17 Jahre 245 Tage 19 Stunden 30 Minuten und 25.04906492195005 Sekunden\n",
      "oder 17 Jahre und 8.08 Monate\n"
     ]
    }
   ],
   "source": [
    "d = log(2, 1.04)\n",
    "years = floor(d)\n",
    "d -= years\n",
    "month = round(d * 12, 2)\n",
    "d *= 365.256 # ungefähre Anzahl siderischer Tage im Jahr\n",
    "days = floor(d)\n",
    "d -= days\n",
    "d *= 24\n",
    "hours = floor(d)\n",
    "d -= hours\n",
    "d *= 60\n",
    "minutes = floor(d)\n",
    "d -= minutes\n",
    "d *= 60\n",
    "seconds = d\n",
    "print(f'{years} Jahre {days} Tage {hours} Stunden {minutes} Minuten und {seconds} Sekunden\\noder {years} Jahre und {month} Monate')"
   ]
  },
  {
   "cell_type": "code",
   "execution_count": 6,
   "id": "3629a0da-29c5-40d7-bbf4-d2441733c342",
   "metadata": {},
   "outputs": [
    {
     "data": {
      "text/plain": [
       "17.672987685129698"
      ]
     },
     "execution_count": 6,
     "metadata": {},
     "output_type": "execute_result"
    }
   ],
   "source": [
    "log(2, 1.04)"
   ]
  },
  {
   "cell_type": "markdown",
   "id": "adcf11ee-56b1-4a58-9e16-8221beec9abf",
   "metadata": {},
   "source": [
    "## 31\n",
    "\n",
    "### a)\n",
    "\n",
    "$K_n=K_0*(1+i)^n$\n",
    "\n",
    "Zuerst alle Faktoren auf die andere Seite von $n$. Dabei wird angenommen, dass $K_0 \\neq 0$ ist. Die Formel wäre eh nicht interessant, da $n$ beliebig wäre und $K_n$ auch 0 ist.\n",
    "\n",
    "$K_n=K_0*(1+i)^n | /K_0$\n",
    "\n",
    "$\\Leftrightarrow \\log_{1+i}(\\frac{K_n}{K_0})=n$\n",
    "\n",
    "### b)\n",
    "\n",
    "Die Formel aus Aufgabenteil a) berechnet das Kapital nach $n$ Jahren bei einem Zinssatz von $i$ (als Zahl, nicht in \\%) und Startkapital von $K_0$. Im Text sind $K_0$ und $i$ gegeben, sowie das Kapital nach der gefragten Anzahl Jahren ($K_n$). Aus Aufgabenteil a) haben wir eine Formel für $n$:\n",
    "\n",
    "$n = \\log_{1+i}(\\frac{K_n}{K_0}) = \\log_{1+0.07}(\\frac{11220.41}{8000}) = \\log_{1.07}(\\frac{11220.41}{8000})$"
   ]
  },
  {
   "cell_type": "code",
   "execution_count": 7,
   "id": "b3381ea8-7000-4db8-bb04-9650ff35d98f",
   "metadata": {},
   "outputs": [
    {
     "data": {
      "text/plain": [
       "4.999994934387202"
      ]
     },
     "execution_count": 7,
     "metadata": {},
     "output_type": "execute_result"
    }
   ],
   "source": [
    "log(11220.41/8000, 1.07)"
   ]
  },
  {
   "cell_type": "markdown",
   "id": "aebfc814-1202-4de6-b6df-db2324c6b877",
   "metadata": {},
   "source": [
    "# 5.3\n",
    "\n",
    "## 2\n",
    "\n",
    "### a)\n",
    "\n",
    "$2\\log_{25}(4)+\\log_{25}(5)-4\\log_{25}(2)$\n",
    "\n",
    "$= \\log_{25}(4^2)+\\log_{25}(5)+\\log_{25}(2^{-4})$\n",
    "\n",
    "$= \\log_{25}(4^2*5*2^{-4})$\n",
    "\n",
    "$= \\log_{25}(16*5*16^{-1})$\n",
    "\n",
    "$= \\log_{25}(5)$\n",
    "\n",
    "$= \\log_{25}(\\sqrt{25})$\n",
    "\n",
    "$= \\frac{1}{2}$"
   ]
  },
  {
   "cell_type": "markdown",
   "id": "025971c6-568e-4217-bcba-69d0a916f7d6",
   "metadata": {},
   "source": [
    "### b)\n",
    "\n",
    "$2\\log_8(\\frac{1}{2}) + 3\\log_8(2)$\n",
    "\n",
    "$= \\log_8((\\frac{1}{2})^2) + \\log_8(2^3)$\n",
    "\n",
    "$= \\log_8((\\frac{1}{2})^2*2^3)$\n",
    "\n",
    "$= \\log_8(2)$\n",
    "\n",
    "$= \\log_8(\\sqrt[3]{8})$\n",
    "\n",
    "$= \\frac{1}{3}$"
   ]
  },
  {
   "cell_type": "markdown",
   "id": "b92e023e-1b6e-4687-ada9-843bd25c3294",
   "metadata": {},
   "source": [
    "### c)\n",
    "\n",
    "$\\log_3(\\frac{3}{4}) + \\log_3(\\frac{8}{11}) - \\log_3(\\frac{54}{11})$\n",
    "\n",
    "$=\\log_3(\\frac{3}{4}) + \\log_3(\\frac{8}{11}) + \\log_3(\\frac{11}{54})$\n",
    "\n",
    "$=\\log_3(\\frac{3}{4}*\\frac{8}{11}*\\frac{11}{54})$\n",
    "\n",
    "$=\\log_3(\\frac{1}{1}*\\frac{1}{1}*\\frac{1}{9})$\n",
    "\n",
    "$=\\log_3(\\frac{1}{9})$\n",
    "\n",
    "$=\\log_3(\\frac{1}{3^2})$\n",
    "\n",
    "$=\\log_3(3^{-2})$\n",
    "\n",
    "$= -2$"
   ]
  },
  {
   "cell_type": "markdown",
   "id": "4e2583c6-d33a-4d78-b14e-2352a271edcf",
   "metadata": {},
   "source": [
    "## 3\n",
    "\n",
    "### a)\n",
    "\n",
    "$\\log_7(x^3) - \\log_7(\\sqrt{x})$\n",
    "\n",
    "$= \\log_7(x^3) + \\log_7(x^{-\\frac{1}{2}})$\n",
    "\n",
    "$= \\log_7(x^3*x^{-\\frac{1}{2}})$\n",
    "\n",
    "$= \\log_7(x^\\frac{5}{2})$\n",
    "\n",
    "oder\n",
    "\n",
    "$= \\frac{5}{2}\\log_7(x)$"
   ]
  },
  {
   "cell_type": "markdown",
   "id": "7315d0f0-b300-4755-995e-bfad1109af64",
   "metadata": {},
   "source": [
    "### b)\n",
    "\n",
    "$\\log_3(2u) - 2\\log_3(u) + \\log_3(u^2) + \\log_3(\\frac{1}{u})$\n",
    "\n",
    "$= \\log_3(2u) + \\log_3(u^{-2}) + \\log_3(u^2) + \\log_3(u^{-1})$\n",
    "\n",
    "$= \\log_3(2u*u^{-2}*u^2*u^{-1})$\n",
    "\n",
    "$= \\log_3(2)$"
   ]
  },
  {
   "cell_type": "markdown",
   "id": "2b19d3b5-483f-4240-8e7a-7e3aa8ee27c0",
   "metadata": {},
   "source": [
    "### c)\n",
    "\n",
    "$\\log_3(a^2)-2\\log_3(a^4)$\n",
    "\n",
    "$= 2*\\log_3(a)-8\\log_3(a)$\n",
    "\n",
    "$= -6\\log_3(a)$\n",
    "\n",
    "oder \n",
    "\n",
    "$= \\log_3(a^{-6})$\n",
    "\n",
    "oder \n",
    "\n",
    "$= \\log_3(\\frac{1}{a^{6}})$"
   ]
  },
  {
   "cell_type": "markdown",
   "id": "15ccc6e6-9847-4d79-bf68-5fc097106950",
   "metadata": {},
   "source": [
    "### d)\n",
    "\n",
    "$\\log_a(x^2)+\\log_a(x^5)-\\log_a(x^6)$\n",
    "\n",
    "$= \\log_a(x^2)+\\log_a(x^5)+\\log_a(x^{-6})$\n",
    "\n",
    "$= \\log_a(x^2*x^5*x^{-6})$\n",
    "\n",
    "$= \\log_a(x)$"
   ]
  },
  {
   "cell_type": "markdown",
   "id": "9658f75b-ef6c-4786-9cea-e934c15ff866",
   "metadata": {},
   "source": [
    "### e)\n",
    "\n",
    "$\\log_a(4x)+\\log_a(4x^3)+\\log_a(2x^2)$\n",
    "\n",
    "$= \\log_a(4x*4x^3*2x^2)$\n",
    "\n",
    "$= \\log_a(2^2x*2^2x^3*2x^2)$\n",
    "\n",
    "$= \\log_a(2^5x^6) = \\log_a(32x^6)$\n",
    "\n",
    "oder \n",
    "\n",
    "$= 5\\log_a(2) + 6\\log_a(x)$"
   ]
  },
  {
   "cell_type": "markdown",
   "id": "24548360-4394-4dba-9f4a-7872b3930ca9",
   "metadata": {},
   "source": [
    "## 4\n",
    "\n",
    "### a)\n",
    "\n",
    "$\\log_{a^2}(\\sqrt[3]{a}) = x$\n",
    "\n",
    "$\\Leftrightarrow \\log_{a^2}(a^\\frac{1}{3}) = x$\n",
    "\n",
    "$\\Leftrightarrow \\log_{a^2}(a^\\frac{2}{2*3}) = x$\n",
    "\n",
    "$\\Leftrightarrow \\log_{a^2}(a^{2*\\frac{1}{6}}) = x$\n",
    "\n",
    "$\\Leftrightarrow \\log_{a^2}((a^2)^\\frac{1}{6}) = x$\n",
    "\n",
    "$\\Leftrightarrow \\frac{1}{6} = x$"
   ]
  },
  {
   "cell_type": "markdown",
   "id": "405766d7-6701-4080-84b0-b5643ac3526c",
   "metadata": {},
   "source": [
    "### b)\n",
    "\n",
    "$\\log_x(9) = 4 | x^{(.)}$\n",
    "\n",
    "$\\Leftrightarrow 9 = x^4 | \\sqrt{.}$\n",
    "\n",
    "Die Basis muss eine positive Zahl sein, daher entfällt $-\\sqrt{9}$\n",
    "\n",
    "$\\Leftrightarrow 3 = x^2 | \\sqrt{.}$\n",
    "\n",
    "Ebenso entfällt $-\\sqrt{3}$\n",
    "\n",
    "$\\Leftrightarrow \\sqrt{3} = x$"
   ]
  },
  {
   "cell_type": "markdown",
   "id": "0c6b8f32-d564-4ab5-8638-8c051b44ed80",
   "metadata": {},
   "source": [
    "### c)\n",
    "\n",
    "$\\log_{25}(x) = -\\frac{1}{4} | 25^{(.)}$\n",
    "\n",
    "$\\Leftrightarrow x = 25^{-\\frac{1}{4}}$\n",
    "\n",
    "$\\Leftrightarrow x = \\frac{1}{\\sqrt[4]{25}}$\n",
    "\n",
    "$\\Leftrightarrow x = \\frac{1}{\\pm\\sqrt{5}}$\n",
    "\n",
    "$x$ muss positiv sein. Daher bleibt nur $x = \\frac{1}{\\sqrt{5}}$"
   ]
  },
  {
   "cell_type": "markdown",
   "id": "d687d7b2-70ae-4aa9-88bc-dda1acb0a912",
   "metadata": {},
   "source": [
    "### d)\n",
    "\n",
    "$\\log_{81}(x) = -\\frac{3}{2} |81^{(.)}$\n",
    "\n",
    "$\\Leftrightarrow x = 81^{-\\frac{3}{2}}$\n",
    "\n",
    "$\\Leftrightarrow x = (9^2)^{-\\frac{3}{2}}$\n",
    "\n",
    "$\\Leftrightarrow x = 9^{2*(-\\frac{3}{2})}$\n",
    "\n",
    "$\\Leftrightarrow x = 9^{-3}$\n",
    "\n",
    "$\\Leftrightarrow x = \\frac{1}{81*9}$\n",
    "\n",
    "$\\Leftrightarrow x = \\frac{1}{729}$"
   ]
  },
  {
   "cell_type": "markdown",
   "id": "55f0d30a-0ea0-4d53-b047-23b165eef025",
   "metadata": {},
   "source": [
    "## 32 \n",
    "\n",
    "### a)\n",
    "\n",
    "$3*5^x - 9375 = 0 | /3$\n",
    "\n",
    "$\\Leftrightarrow 5^x - 3125 = 0 | + 3125$\n",
    "\n",
    "$\\Leftrightarrow 5^x = 3125$\n",
    "\n",
    "Wir müssen $\\log_5(.)$ anwenden. Dafür wäre es hilfreich 3125 durch $5^y$ auszudrucken. $5^2 = 25$, $25^2 = 625$, $625 * 5 = (600 + 25) * 5 = 600 * 5 + 25 * 5 = 3000 + 125 = 3125$. Also ist $5^5 = 5^4 * 5 = (5^2)^2 * 5 = 25^2 * 5 = 625 * 5 = 3125$.\n",
    "\n",
    "$\\Leftrightarrow 5^x = 5^5 | \\log_5(.)$\n",
    "\n",
    "$\\Leftrightarrow x = 5$"
   ]
  },
  {
   "cell_type": "markdown",
   "id": "924ba430-e935-440d-bf38-2061eb7b5735",
   "metadata": {},
   "source": [
    "### b)\n",
    "\n",
    "$5*4^x+3050=17*4^x-22$\n",
    "\n",
    "Hier kann nicht einfach durch den Faktor for $4^x$ geteilt werden, weil $4^x$ mehrfach vorkommt. Also muss $4^x$ ausgeklammert werden. Dazu jeden Summanden mit $4^x$ auf eine Seite und der Rest auf die andere.\n",
    "\n",
    "$\\Leftrightarrow 5*4^x+3050=17*4^x-22|-5*4^x + 22$\n",
    "\n",
    "$\\Leftrightarrow 3050+22=17*4^x-5*4^x$\n",
    "\n",
    "$\\Leftrightarrow 3072=(17-5)*4^x$\n",
    "\n",
    "Nun in mehreren Schritten, weil im Kopf.\n",
    "\n",
    "$\\Leftrightarrow 3072=12*4^x | /2$\n",
    "\n",
    "$\\Leftrightarrow 1536=6*4^x | /2$\n",
    "\n",
    "$\\Leftrightarrow \\frac{1536}{2}=3*4^x$\n",
    "\n",
    "$\\Leftrightarrow \\frac{1500 + 36}{2}=3*4^x$\n",
    "\n",
    "$\\Leftrightarrow 750 + 18=3*4^x | /3$\n",
    "\n",
    "$\\Leftrightarrow 250 + 6=4^x$\n",
    "\n",
    "$\\Leftrightarrow 256=4^x$\n",
    "\n",
    "256 ist eine Zweierpotenz, nämlich $2^8$. Daher wird die Rechte Seite auch als Zweierpotenz geschrieben.\n",
    "\n",
    "$\\Leftrightarrow 2^8=(2^2)^x$\n",
    "\n",
    "$\\Leftrightarrow 2^8=2^{2x} | \\log_2(.)$\n",
    "\n",
    "$\\Leftrightarrow 8=2x | /2$\n",
    "\n",
    "$\\Leftrightarrow 4=x$"
   ]
  },
  {
   "cell_type": "markdown",
   "id": "b5461920-4d97-4f00-afd2-6f5edde660d1",
   "metadata": {},
   "source": [
    "### c)\n",
    "\n",
    "$7^{x-5}=7^{5-x} | \\log_7(.)$\n",
    "\n",
    "Hier kann direkt der Logarithmus verwendet werden, da nur Exponentialfunktionen vorkommen. Andernfalls alle Exponentialfunktionen auf eine Seite, Rest auf die andere. Die Exponenten bei gleicher Basis addieren und dann erst den Logarithmus.\n",
    "\n",
    "$\\Leftrightarrow x-5=5-x|+x+5$\n",
    "\n",
    "$\\Leftrightarrow 2x=10 |/2$\n",
    "\n",
    "$\\Leftrightarrow x=5$"
   ]
  },
  {
   "cell_type": "markdown",
   "id": "a9147851-e664-404e-899d-dbb39ecef664",
   "metadata": {},
   "source": [
    "### d)\n",
    "\n",
    "$7^{3x+1}=5*3^{x-3}$\n",
    "\n",
    "Hier gibt es keinen wirklichen Trick. In Variante 1 wird vorher so umgestellt, dass es einen Term $(.)^x$ gibt. Es ist aber auch möglich, sofort einen Logarithmus anzuwenden, weil keine Summen vorkommen, was in Variante 2 gezeigt wird.\n",
    "\n",
    "Variante 1\n",
    "\n",
    "$\\Leftrightarrow 7^{3x+1}=5*3^{x-3}$\n",
    "\n",
    "$\\Leftrightarrow 7^{3x}*7=5*3^x*3^{-3}$\n",
    "\n",
    "$\\Leftrightarrow (7^3)^x*7=5*3^x*3^{-3}$\n",
    "\n",
    "Soweit so gut. Nun muss alles mit $x$ auf eine Seite und der Rest auf die Andere.\n",
    "\n",
    "$\\Leftrightarrow (7^3)^x*7=5*3^x*3^{-3} | *7^{-1} / 3^x$\n",
    "\n",
    "$\\Leftrightarrow \\frac{343^x}{3^x}=5*3^{-3}*7^{-1}$\n",
    "\n",
    "$\\Leftrightarrow (\\frac{343}{3})^x=\\frac{5}{27*7}$\n",
    "\n",
    "Nun kann der Logarithmus angewendet werden.\n",
    "\n",
    "$\\Leftrightarrow x=\\log_\\frac{343}{3}(\\frac{5}{189})$\n",
    "\n",
    "Und noch etwas schöner mit einem bekannten Logarithmus.\n",
    "\n",
    "$\\Leftrightarrow x=\\frac{\\ln\\frac{5}{189}}{\\ln\\frac{343}{3}}$"
   ]
  },
  {
   "cell_type": "code",
   "execution_count": 8,
   "id": "5f5df7e6-5457-4e68-aada-38acc3e709b0",
   "metadata": {},
   "outputs": [
    {
     "data": {
      "text/plain": [
       "-0.7664525300160239"
      ]
     },
     "execution_count": 8,
     "metadata": {},
     "output_type": "execute_result"
    }
   ],
   "source": [
    "import math\n",
    "a = math.log(5/189) / math.log(343/3)\n",
    "a"
   ]
  },
  {
   "cell_type": "code",
   "execution_count": 9,
   "id": "fb2c5129-6991-4f7a-9f8b-d26b067b97c4",
   "metadata": {},
   "outputs": [
    {
     "data": {
      "text/plain": [
       "0.07978393411088751"
      ]
     },
     "execution_count": 9,
     "metadata": {},
     "output_type": "execute_result"
    }
   ],
   "source": [
    "7**(3*a+1)"
   ]
  },
  {
   "cell_type": "code",
   "execution_count": 10,
   "id": "6279d1db-55a6-49f3-9e5d-3d7240646f5c",
   "metadata": {},
   "outputs": [
    {
     "data": {
      "text/plain": [
       "0.07978393411088745"
      ]
     },
     "execution_count": 10,
     "metadata": {},
     "output_type": "execute_result"
    }
   ],
   "source": [
    "5 * 3**(a-3)"
   ]
  },
  {
   "cell_type": "markdown",
   "id": "6747f5eb-1e69-4a54-8bdf-80f24a53ffcb",
   "metadata": {},
   "source": [
    "Variante 2\n",
    "\n",
    "Im Prinzip werden die gleichen Umformungen gemacht, nur \"unter\" dem Logarithmus.\n",
    "\n",
    "$7^{3x+1}=5*3^{x-3} | \\ln(.)$\n",
    "\n",
    "$\\Leftrightarrow \\ln(7^{3x+1})=\\ln(5*3^{x-3})$\n",
    "\n",
    "$\\Leftrightarrow (3x+1) * \\ln(7)=\\ln(5) + (x-3)*\\ln(3)$\n",
    "\n",
    "$\\Leftrightarrow 3x*\\ln(7)+\\ln(7)=\\ln(5) + x*\\ln(3)-3*\\ln(3) | - x*\\ln(3) - \\ln(7)$\n",
    "\n",
    "Alles mit $x$ auf eine Seite und der rest auf die andere.\n",
    "\n",
    "$\\Leftrightarrow 3x*\\ln(7)-x*\\ln(3)=\\ln(5)- \\ln(7) + -\\ln(3^3)$\n",
    "\n",
    "$\\Leftrightarrow x*(3*\\ln(7)-\\ln(3))=\\ln(\\frac{5}{7*27})$\n",
    "\n",
    "$\\Leftrightarrow x*(\\ln(7^3)-\\ln(3))=\\ln(\\frac{5}{189})$\n",
    "\n",
    "$\\Leftrightarrow x*\\ln(\\frac{343}{3})=\\ln(\\frac{5}{189}) | / \\ln(\\frac{343}{3})$\n",
    "\n",
    "$\\Leftrightarrow x=\\frac{\\ln(\\frac{5}{189})}{\\ln(\\frac{343}{3})}$"
   ]
  },
  {
   "cell_type": "markdown",
   "id": "8bf711d6-bccc-4ee1-b971-44332337dd65",
   "metadata": {},
   "source": [
    "### e)\n",
    "\n",
    "$x^{\\lg(x)} = 1 | \\lg(.)$\n",
    "\n",
    "Die Umformungen sind erlaubt, weil beide seiten positiv sein sollen.\n",
    "\n",
    "$\\Leftrightarrow \\lg(x^{\\lg(x)}) = \\lg(1)$\n",
    "\n",
    "$\\Leftrightarrow \\lg(x)\\lg(x) = 0$\n",
    "\n",
    "$\\Leftrightarrow (\\lg(x))^2 = 0 | \\sqrt{.}$\n",
    "\n",
    "$\\Leftrightarrow |\\lg(x)| = 0 | 10^{(.)} $\n",
    "\n",
    "Weil es gleich null ist, entfällt der Betrag\n",
    "\n",
    "$\\Leftrightarrow \\lg(x) = 0 | 10^{(.)} $\n",
    "\n",
    "$\\Leftrightarrow x = 1$"
   ]
  },
  {
   "cell_type": "markdown",
   "id": "93b4456d-cce7-4bad-9faf-5dddad7b0e4e",
   "metadata": {},
   "source": [
    "### f)\n",
    "\n",
    "$x^{\\lg(x)} = x | \\lg(.)$\n",
    "\n",
    "Wir nehmen an, dass $\\lg(x)$ existiert.\n",
    "\n",
    "$\\Leftrightarrow \\lg(x)*\\lg(x) = \\lg(x)$\n",
    "\n",
    "$\\Leftrightarrow \\lg(x)^2 = \\lg(x) | - \\lg(x)$\n",
    "\n",
    "Nicht die Wurzel ziehen! Die Rechte seite könnte negativ sein.\n",
    "\n",
    "$\\Leftrightarrow \\lg(x)^2 - \\lg(x) = 0$\n",
    "\n",
    "Eine quadratische Gleichung. Lösen durch faktorisieren.\n",
    "\n",
    "$\\Leftrightarrow \\lg(x)(\\lg(x)-1) = 0$\n",
    "\n",
    "Die erste Lösung ist wie in Aufgabenteil e)\n",
    "\n",
    "$\\lg(x_1) = 0 \\Leftrightarrow x_1 = 1$\n",
    "\n",
    "Die Zweite ergibt sich wie folgt.\n",
    "\n",
    "$\\lg(x_2)-1 = 0 | + 1$\n",
    "\n",
    "$\\Leftrightarrow \\lg(x_2) = 1 | 10^{(.)}$\n",
    "\n",
    "$\\Leftrightarrow x_2 = 10$\n",
    "\n",
    "Beide Ergebnisse sind positiv. Das heißt, es war in beiden Fällen erlaubt, den ersten Schritt zu machen. Daher sind beides tatsächlich Lösungen."
   ]
  },
  {
   "cell_type": "markdown",
   "id": "e37bb4c6-250a-4f3a-99cf-77ceefbf414c",
   "metadata": {},
   "source": [
    "### g)\n",
    "\n",
    "$x^x = x$\n",
    "\n",
    "Fallunterscheidung für negative bzw. positive x. Für $x = 0$ ist die linke Seite nicht definiert. Daher entfällt dies als Lösung.\n",
    "\n",
    "Fall $x > 0$\n",
    "\n",
    "$x^x = x | \\ln(.)$\n",
    "\n",
    "$\\Leftrightarrow \\ln(x^x) = \\ln(x) | \\ln(.)$\n",
    "\n",
    "$\\Leftrightarrow \\ln(x^x) = \\ln(x) | \\ln(.)$\n",
    "\n",
    "$\\Leftrightarrow x * ln(x) = \\ln(x)$\n",
    "\n",
    "Es wäre nun gut, durch $\\ln(x)$ zu teilen. Das könnte aber null sein. Daher eine weitere Fallunterscheidung zwischen $\\ln(x) = 0$ und $\\ln(x) \\neq 0$. Im ersten Fall wäre die gleichung äquivalent zu $0 = 0$, also erfüllt. Das dazugehörige $x$ ergibt sich aus:\n",
    "\n",
    "$\\ln(x) = 0| e^{(.)}$\n",
    "\n",
    "$x = 1$\n",
    "\n",
    "Im anderen Fall kann geteilt werden:\n",
    "\n",
    "$x * ln(x) = \\ln(x) | /\\ln(x)$\n",
    "\n",
    "$\\Leftrightarrow x = 1$\n",
    "\n",
    "Da für diesen Fall $x \\neq 1$ angenommen wurde, gibt es **keine** Lösung in diesem Fall. \n",
    "\n",
    "Die einzige Lösung mit $x > 0$ ist also $x = 1$."
   ]
  },
  {
   "cell_type": "markdown",
   "id": "5012104b-b241-40f9-bee4-cdecf8a127ff",
   "metadata": {},
   "source": [
    "Fall $x < 0$\n",
    "\n",
    "Wir ersetzen $x = -y$, weil $x < 0 \\Leftrightarrow -y < 0 \\Leftrightarrow y > 0$ gilt.\n",
    "\n",
    "$x^x = x$\n",
    "\n",
    "$\\Leftrightarrow (-y)^{(-y)} = -y$\n",
    "\n",
    "$\\Leftrightarrow (-1)^{-y}y^{-y} = -1*y$\n",
    "\n",
    "$\\Leftrightarrow (-1)^{-y}\\frac{1}{y^y} = -1*y | *(-1)^{-1}$\n",
    "\n",
    "$\\Leftrightarrow (-1)^{-y-1}\\frac{1}{y^y} = y$\n",
    "\n",
    "Der Factor $(-1)^{-y-1}$ ist interessant. Wenn $y$ gerade ist, ist er gleich $-1$. Für ungerade $y$ $1$. Für alle anderen Zahlen, ist es keine reelle Zahl. Da aber $y^y$ bzw. $\\frac{1}{y^y}$ und $y$ reelle Zahlen sind, kann die Gleichung dann nicht mehr gelten.\n",
    "\n",
    "Fall $y$ ist gerade\n",
    "\n",
    "$-1*\\frac{1}{y^y} = y$\n",
    "\n",
    "$\\Leftrightarrow -\\frac{1}{y^y} = y$\n",
    "\n",
    "Zur Erinnerung, $y > 0$. Damit ist die linke seite immer kleiner als null, die rechte immer Größer, es gibt also keine Lösung.\n",
    "\n",
    "Es bleibt ein letzter Fall; alle ungeraden positiven $y$\n",
    "\n",
    "$1*\\frac{1}{y^y} = y$\n",
    "\n",
    "$\\Leftrightarrow \\frac{1}{y^y} = y | (.)^{-1}$\n",
    "\n",
    "$\\Leftrightarrow y^y = y^{-1} | \\ln(.)$\n",
    "\n",
    "$\\Leftrightarrow \\ln(y^y) = \\ln(y^{-1})$\n",
    "\n",
    "$\\Leftrightarrow y*\\ln(y) = -\\ln(y)$\n",
    "\n",
    "Nun wäre es wieder gut, wenn durch $\\ln(y)$ geteilt wird. Wir wissen schon, dass $\\ln(1) = 0$ gilt. $y$ ist in diesem Fall $1$. Auf beiden Seiten stünde $0$ und die Gleichung wäre erfüllt. Die Lösung erfüllt die Annahmen für diesen Fall und wir erhalten eine weitere Lösung: $y=1$ bzw. $x = -y = -1$.\n",
    "\n",
    "Zuletzt noch teilen.\n",
    "\n",
    "$y*\\ln(y) = -\\ln(y) | / \\ln(y)$\n",
    "\n",
    "$\\Leftrightarrow y = -1$\n",
    "\n",
    "Auch dies ist **keine** Lösung, weil für diesen Fall $y$ positiv sein muss.\n",
    "\n",
    "Die Lösungen sind also:\n",
    "\n",
    "$x_1 = 1$\n",
    "\n",
    "$x_2 = -1$"
   ]
  },
  {
   "cell_type": "markdown",
   "id": "4699700d-af72-44f3-8af1-625f9ea0317d",
   "metadata": {},
   "source": [
    "### h)\n",
    "\n",
    "Aus $(\\frac{4}{5})^3 = (\\frac{5}{4})^x$ folgt $4^{3+x}=5^{3+x} \\rightarrow 4 = 5$\n",
    "\n",
    "Das erste Folgt ist richtig.\n",
    "\n",
    "Es wurde nun angenommen, dass gilt $1 = 3 + x$. Da das Ergebniss aber nicht stimmt, muss diese Annahme falsch sein.\n",
    "\n",
    "$(\\frac{4}{5})^3 = (\\frac{5}{4})^x | \\ln(.)$\n",
    "\n",
    "$\\Leftrightarrow 3*\\ln(\\frac{4}{5}) = x*\\ln(\\frac{5}{4}) | /\\ln(\\frac{5}{4})$\n",
    "\n",
    "$\\Leftrightarrow 3*\\frac{\\ln(\\frac{4}{5})}{\\ln(\\frac{5}{4})} = x$\n",
    "\n",
    "$\\Leftrightarrow 3*\\ln(\\frac{4}{5}){\\ln(\\frac{5}{4})} = x$\n",
    "\n",
    "$\\Leftrightarrow 3*\\log_{\\frac{5}{4}}((\\frac{5}{4})^{-1}) = x$\n",
    "\n",
    "$\\Leftrightarrow 3*(-1) = x$\n",
    "\n",
    "$\\Leftrightarrow -3 = x$\n",
    "\n",
    "Die Annahme war tatsächlich falsch."
   ]
  },
  {
   "cell_type": "markdown",
   "id": "74c92751-f408-4e23-9110-32fda6bf444c",
   "metadata": {},
   "source": [
    "# 5.4\n",
    "\n",
    "## 1\n",
    "\n",
    "$1,3kg * (1 + \\frac{13 \\%}{100 \\%})^t = 4,6 kg | /(1,3kg)$\n",
    "\n",
    "$\\Leftrightarrow (1 + \\frac{13}{100})^t = \\frac{4,6 kg}{1,3kg}$\n",
    "\n",
    "$\\Leftrightarrow (1,13)^t = \\frac{46}{13} | \\log_{1,13}(.)$\n",
    "\n",
    "$\\Leftrightarrow t = \\log_{1,13}(\\frac{46}{13})$\n",
    "\n",
    "$\\Leftrightarrow t = \\frac{\\ln(\\frac{46}{13})}{\\ln(1.13)}$"
   ]
  },
  {
   "cell_type": "code",
   "execution_count": 11,
   "id": "615693f7-f2dc-4f0e-af4b-50d5a00b41f9",
   "metadata": {},
   "outputs": [
    {
     "data": {
      "text/plain": [
       "10.339686760900827"
      ]
     },
     "execution_count": 11,
     "metadata": {},
     "output_type": "execute_result"
    }
   ],
   "source": [
    "log(46/13, 1.13)"
   ]
  },
  {
   "cell_type": "markdown",
   "id": "d9c26113-06e8-434f-852d-b15572b10c49",
   "metadata": {},
   "source": [
    "## 2\n",
    "\n",
    "$(1+ \\frac{p \\%}{100 \\%})^t = x | \\ln(.)$\n",
    "\n",
    "$\\Leftrightarrow t * \\ln(1+ \\frac{p \\%}{100 \\%}) = \\ln(x) | \\ln(1+ \\frac{p \\%}{100 \\%})$\n",
    "\n",
    "$\\Leftrightarrow t = \\frac{\\ln(x)}{\\ln(1+ \\frac{p \\%}{100 \\%})}$\n",
    "\n",
    "Verdopplungszeit bei $3 \\%$\n",
    "\n",
    "$t = \\frac{\\ln(2)}{\\ln(1+ \\frac{3 \\%}{100 \\%})}$"
   ]
  },
  {
   "cell_type": "code",
   "execution_count": 12,
   "id": "c2ecec1f-fa72-48ad-a927-34b05ee07bed",
   "metadata": {},
   "outputs": [
    {
     "data": {
      "text/plain": [
       "23.449772250437736"
      ]
     },
     "execution_count": 12,
     "metadata": {},
     "output_type": "execute_result"
    }
   ],
   "source": [
    "log(2)/log(1+3/100)"
   ]
  },
  {
   "cell_type": "markdown",
   "id": "adfe48cb-a582-4904-99ad-d7e732b61609",
   "metadata": {},
   "source": [
    "Halbwertszeit bei $-4 \\%$\n",
    "\n",
    "$t = \\frac{\\ln(0,5)}{\\ln(1+ \\frac{-4 \\%}{100 \\%})}$"
   ]
  },
  {
   "cell_type": "code",
   "execution_count": 13,
   "id": "09c8d2fc-3d9b-48e4-a4c7-7815a9ebd1af",
   "metadata": {},
   "outputs": [
    {
     "data": {
      "text/plain": [
       "16.97974801833893"
      ]
     },
     "execution_count": 13,
     "metadata": {},
     "output_type": "execute_result"
    }
   ],
   "source": [
    "log(0.5)/log(1-4/100)"
   ]
  },
  {
   "cell_type": "markdown",
   "id": "3f9fc49c-e8cb-400d-8bf7-569afc57997e",
   "metadata": {},
   "source": [
    "## 3\n",
    "\n",
    "Mit der Gleichung aus Aufgabe 2\n",
    "\n",
    "### a)\n",
    "\n",
    "$t = \\frac{\\ln(0.5)}{\\ln(1+ \\frac{-4.7 \\%}{100 \\%})}$"
   ]
  },
  {
   "cell_type": "code",
   "execution_count": 14,
   "id": "c7ea37e0-fe46-4c30-9046-575e84b55474",
   "metadata": {},
   "outputs": [
    {
     "data": {
      "text/plain": [
       "14.39845817233844"
      ]
     },
     "execution_count": 14,
     "metadata": {},
     "output_type": "execute_result"
    }
   ],
   "source": [
    "log(0.5)/log(1-4.7/100)"
   ]
  },
  {
   "cell_type": "markdown",
   "id": "a3ac6ef9-ff44-4b8e-a0ff-9a713ba2a388",
   "metadata": {},
   "source": [
    "14,40 Tage\n",
    "\n",
    "### b)\n",
    "\n",
    "$t = \\frac{\\ln(0.5)}{\\ln(1+ \\frac{-2.8 \\%}{100 \\%})}$"
   ]
  },
  {
   "cell_type": "code",
   "execution_count": 15,
   "id": "767343c4-730a-4b04-8bc2-2f6a8bd2067e",
   "metadata": {},
   "outputs": [
    {
     "data": {
      "text/plain": [
       "24407.042462365323"
      ]
     },
     "execution_count": 15,
     "metadata": {},
     "output_type": "execute_result"
    }
   ],
   "source": [
    "log(0.5)/log(1-2.8/100) * 1000"
   ]
  },
  {
   "cell_type": "markdown",
   "id": "819a751e-4f4a-4144-9eaa-b5a3146d090f",
   "metadata": {},
   "source": [
    "24407,04 Jahre"
   ]
  },
  {
   "cell_type": "markdown",
   "id": "c1b08cd0-4e53-47e0-b0e7-154b1c60e3c2",
   "metadata": {},
   "source": [
    "## 4"
   ]
  },
  {
   "cell_type": "code",
   "execution_count": 16,
   "id": "c0e8c93b-9e1a-46d5-94a9-34cbac266b97",
   "metadata": {},
   "outputs": [
    {
     "data": {
      "text/plain": [
       "1.4705882352941178"
      ]
     },
     "execution_count": 16,
     "metadata": {},
     "output_type": "execute_result"
    }
   ],
   "source": [
    "10 / 6.8"
   ]
  },
  {
   "cell_type": "code",
   "execution_count": 17,
   "id": "264b82a6-2b22-4ef2-8399-f9fa934b0856",
   "metadata": {},
   "outputs": [
    {
     "data": {
      "text/plain": [
       "1.4782608695652175"
      ]
     },
     "execution_count": 17,
     "metadata": {},
     "output_type": "execute_result"
    }
   ],
   "source": [
    "6.8/4.6"
   ]
  },
  {
   "cell_type": "code",
   "execution_count": 18,
   "id": "3d9c54d9-e8ff-40d8-bf00-d06facd88100",
   "metadata": {},
   "outputs": [
    {
     "data": {
      "text/plain": [
       "1.4838709677419353"
      ]
     },
     "execution_count": 18,
     "metadata": {},
     "output_type": "execute_result"
    }
   ],
   "source": [
    "4.6/3.1"
   ]
  },
  {
   "cell_type": "code",
   "execution_count": 19,
   "id": "32c827ee-f0b0-4f6e-8d35-e6e3837e96bc",
   "metadata": {},
   "outputs": [
    {
     "data": {
      "text/plain": [
       "1.4761904761904763"
      ]
     },
     "execution_count": 19,
     "metadata": {},
     "output_type": "execute_result"
    }
   ],
   "source": [
    "3.1/2.1"
   ]
  },
  {
   "cell_type": "markdown",
   "id": "32a04242-0568-465f-bdb6-de450111249d",
   "metadata": {},
   "source": [
    "Das Verhältnis der Spannung bleib in gleichen Zeitabständen gleich. Daher ist es eine Exponentialfunktion.\n",
    "\n",
    "u = $10 * (\\frac{3.1}{2.1})^\\frac{t}{5}$"
   ]
  },
  {
   "cell_type": "markdown",
   "id": "ca2ac68a-e6e7-45d9-992c-aeec1fab0818",
   "metadata": {},
   "source": [
    "## 5\n",
    "\n",
    "$\\text{DIN} = 1 + k * \\lg(\\text{ASA}) | -1$\n",
    "\n",
    "$\\Leftrightarrow \\text{DIN} - 1 = k * \\lg(\\text{ASA}) | / \\lg(\\text{ASA})$\n",
    "\n",
    "$\\Leftrightarrow \\frac{\\text{DIN} - 1}{\\lg(\\text{ASA})} = k$\n",
    "\n",
    "DIN|  17|  21|  24|  27|  31\n",
    "---|----|----|----|----|----\n",
    "ASA|  50| 100| 200| 400|1000\n",
    " k |9,42|10.0|10.0|10.0|10.0"
   ]
  },
  {
   "cell_type": "code",
   "execution_count": 20,
   "id": "6b3d223f-4558-439f-9096-73d6a3d96ee2",
   "metadata": {},
   "outputs": [
    {
     "name": "stdout",
     "output_type": "stream",
     "text": [
      "din = 17, asa = 50, k = 9.417470561084464\n",
      "din = 21, asa = 100, k = 10.0\n",
      "din = 24, asa = 200, k = 9.995523762550155\n",
      "din = 27, asa = 400, k = 9.992083228923132\n",
      "din = 31, asa = 1000, k = 10.000000000000002\n"
     ]
    }
   ],
   "source": [
    "def k(din, asa):\n",
    "    return (din - 1)/log(asa,10)\n",
    "for din, asa in [\n",
    "  (17,50),\n",
    "  (21,100),\n",
    "  (24,200),\n",
    "  (27,400),\n",
    "  (31,1000),\n",
    "]:\n",
    "    print(f'{din = }, {asa = }, k = {k(din, asa)}')"
   ]
  }
 ],
 "metadata": {
  "kernelspec": {
   "display_name": "Python 3 (ipykernel)",
   "language": "python",
   "name": "python3"
  },
  "language_info": {
   "codemirror_mode": {
    "name": "ipython",
    "version": 3
   },
   "file_extension": ".py",
   "mimetype": "text/x-python",
   "name": "python",
   "nbconvert_exporter": "python",
   "pygments_lexer": "ipython3",
   "version": "3.12.10"
  }
 },
 "nbformat": 4,
 "nbformat_minor": 5
}
