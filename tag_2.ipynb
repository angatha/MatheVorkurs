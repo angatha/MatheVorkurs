{
 "cells": [
  {
   "cell_type": "markdown",
   "id": "af4368ef-279d-4531-a81e-63fa0965ecac",
   "metadata": {},
   "source": [
    "# Links\n",
    "\n",
    "Stundenplan [html](https://intranet-i.ostfalia.de/fips/stundenplan/schedule.html?group=161901.html#KW39) [ical](https://intranet-i.ostfalia.de/ical/) [spluseins](https://spluseins.de/)\n",
    "\n",
    "[Semester/Deutschlandticket](https://asta.ostfalia.de/index.php/link-und-datenschutz-zum-dsemti/)\n",
    "\n",
    "[Ostfalia-Card](https://www.ostfalia.de/hochschule/campus-einrichtungen/rechenzentrum/hilfe-vom-it-service-desk#c10514) Abholung im [Rechenzentrum](https://maps.app.goo.gl/y7wjQdDeAbwsFewk8)\n",
    "\n",
    "[Zusatzdokument](https://www.ostfalia.de/hochschule/fakultaeten/fakultaet-informatik/fakultaetsteam/dr-susanne-bellmer#c29575-t)"
   ]
  },
  {
   "cell_type": "code",
   "execution_count": 1,
   "id": "1ee1c4c0-139d-48a3-b480-5f7825e8d73a",
   "metadata": {},
   "outputs": [
    {
     "data": {
      "text/latex": [
       "\n",
       "$\\frac{x}{x+y}+\\frac{y}{x-y}$\n"
      ],
      "text/plain": [
       "<IPython.core.display.Latex object>"
      ]
     },
     "metadata": {},
     "output_type": "display_data"
    }
   ],
   "source": [
    "%%latex\n",
    "\n",
    "$\\frac{x}{x+y}+\\frac{y}{x-y}$"
   ]
  },
  {
   "cell_type": "code",
   "execution_count": 9,
   "id": "a838511c-c335-41c4-ac2b-7fc664bcaa51",
   "metadata": {},
   "outputs": [
    {
     "data": {
      "text/latex": [
       "\n",
       "$\\frac{(x)*(x-y)}{(x+y)*(x-y)}+\\frac{(y)*(x+y)}{(x+y)*(x-y)}$\n"
      ],
      "text/plain": [
       "<IPython.core.display.Latex object>"
      ]
     },
     "metadata": {},
     "output_type": "display_data"
    }
   ],
   "source": [
    "%%latex\n",
    "\n",
    "$\\frac{(x)*(x-y)}{(x+y)*(x-y)}+\\frac{(y)*(x+y)}{(x+y)*(x-y)}$"
   ]
  },
  {
   "cell_type": "code",
   "execution_count": 11,
   "id": "a1185406-a6d0-461b-94dc-d989dd4f6f50",
   "metadata": {},
   "outputs": [
    {
     "data": {
      "text/latex": [
       "\n",
       "$\\frac{x^2-xy}{x^2-y^2}+\\frac{xy+y^2}{x^2-y^2}$\n"
      ],
      "text/plain": [
       "<IPython.core.display.Latex object>"
      ]
     },
     "metadata": {},
     "output_type": "display_data"
    }
   ],
   "source": [
    "%%latex\n",
    "\n",
    "$\\frac{x^2-xy}{x^2-y^2}+\\frac{xy+y^2}{x^2-y^2}$"
   ]
  },
  {
   "cell_type": "code",
   "execution_count": 13,
   "id": "9bb4e649-6cf7-4cca-b825-f5154a14c54d",
   "metadata": {},
   "outputs": [
    {
     "data": {
      "text/latex": [
       "\n",
       "$\\frac{(x^2-xy)+(xy+y^2)}{x^2-y^2}$\n"
      ],
      "text/plain": [
       "<IPython.core.display.Latex object>"
      ]
     },
     "metadata": {},
     "output_type": "display_data"
    }
   ],
   "source": [
    "%%latex\n",
    "\n",
    "$\\frac{(x^2-xy)+(xy+y^2)}{x^2-y^2}$"
   ]
  },
  {
   "cell_type": "code",
   "execution_count": 14,
   "id": "be608022-6c83-4e3a-b616-8dc000d7a6c5",
   "metadata": {},
   "outputs": [
    {
     "data": {
      "text/latex": [
       "\n",
       "$\\frac{x^2-xy+xy+y^2}{x^2-y^2}$\n"
      ],
      "text/plain": [
       "<IPython.core.display.Latex object>"
      ]
     },
     "metadata": {},
     "output_type": "display_data"
    }
   ],
   "source": [
    "%%latex\n",
    "\n",
    "$\\frac{x^2-xy+xy+y^2}{x^2-y^2}$"
   ]
  },
  {
   "cell_type": "code",
   "execution_count": 15,
   "id": "b085f1cc-052b-4534-9ab4-a744b23036f4",
   "metadata": {},
   "outputs": [
    {
     "data": {
      "text/latex": [
       "\n",
       "$\\frac{x^2+y^2}{x^2-y^2}$\n"
      ],
      "text/plain": [
       "<IPython.core.display.Latex object>"
      ]
     },
     "metadata": {},
     "output_type": "display_data"
    }
   ],
   "source": [
    "%%latex\n",
    "\n",
    "$\\frac{x^2+y^2}{x^2-y^2}$"
   ]
  },
  {
   "cell_type": "code",
   "execution_count": 19,
   "id": "51200f5f-5310-4cde-a1ae-a5255da14eb2",
   "metadata": {},
   "outputs": [
    {
     "data": {
      "text/latex": [
       "$4-\\frac{6^2}{10^2}b^2$\n"
      ],
      "text/plain": [
       "<IPython.core.display.Latex object>"
      ]
     },
     "metadata": {},
     "output_type": "display_data"
    }
   ],
   "source": [
    "%%latex\n",
    "$4-\\frac{6^2}{10^2}b^2$"
   ]
  },
  {
   "cell_type": "code",
   "execution_count": 20,
   "id": "1c0487a5-5ae7-45ff-80e1-d055825edc38",
   "metadata": {},
   "outputs": [
    {
     "data": {
      "text/latex": [
       "$4-\\frac{36}{100}b^2$\n"
      ],
      "text/plain": [
       "<IPython.core.display.Latex object>"
      ]
     },
     "metadata": {},
     "output_type": "display_data"
    }
   ],
   "source": [
    "%%latex\n",
    "$4-\\frac{36}{100}b^2$"
   ]
  },
  {
   "cell_type": "code",
   "execution_count": 21,
   "id": "705055c5-a4e4-45a2-bda2-b608f4a7bb33",
   "metadata": {},
   "outputs": [
    {
     "data": {
      "text/latex": [
       "$4-0.36b^2$\n"
      ],
      "text/plain": [
       "<IPython.core.display.Latex object>"
      ]
     },
     "metadata": {},
     "output_type": "display_data"
    }
   ],
   "source": [
    "%%latex\n",
    "$4-0.36b^2$"
   ]
  },
  {
   "cell_type": "code",
   "execution_count": 23,
   "id": "ded93494-606a-491a-a68c-489f0044ff2f",
   "metadata": {},
   "outputs": [
    {
     "data": {
      "text/latex": [
       "$(2+1.4b)^2$\n"
      ],
      "text/plain": [
       "<IPython.core.display.Latex object>"
      ]
     },
     "metadata": {},
     "output_type": "display_data"
    }
   ],
   "source": [
    "%%latex\n",
    "$(2+1.4b)^2$"
   ]
  },
  {
   "cell_type": "code",
   "execution_count": 20,
   "id": "18021055-a20c-4b8e-a92c-8385160c0433",
   "metadata": {},
   "outputs": [
    {
     "data": {
      "text/latex": [
       "$\\sqrt{(x+y)}^2$\n"
      ],
      "text/plain": [
       "<IPython.core.display.Latex object>"
      ]
     },
     "metadata": {},
     "output_type": "display_data"
    }
   ],
   "source": [
    "%%latex\n",
    "$\\sqrt{(x+y)}^2$"
   ]
  },
  {
   "cell_type": "code",
   "execution_count": 25,
   "id": "5a3ba332-9ae3-4573-adf8-09ab6807641e",
   "metadata": {},
   "outputs": [
    {
     "data": {
      "text/latex": [
       "$4+5.6b+1.96b^2$\n"
      ],
      "text/plain": [
       "<IPython.core.display.Latex object>"
      ]
     },
     "metadata": {},
     "output_type": "display_data"
    }
   ],
   "source": [
    "%%latex\n",
    "$4+5.6b+1.96b^2$"
   ]
  },
  {
   "cell_type": "code",
   "execution_count": 26,
   "id": "1bc25d7d-3c26-4341-80e9-14e9eb9755fa",
   "metadata": {},
   "outputs": [
    {
     "data": {
      "text/latex": [
       "$(d-a)^2 = b - 12dg+36g^2$\n"
      ],
      "text/plain": [
       "<IPython.core.display.Latex object>"
      ]
     },
     "metadata": {},
     "output_type": "display_data"
    }
   ],
   "source": [
    "%%latex\n",
    "$(d-a)^2 = b - 12dg+36g^2$"
   ]
  },
  {
   "cell_type": "code",
   "execution_count": 27,
   "id": "d84c01be-afdb-4bb4-a5f5-d56fd5421472",
   "metadata": {},
   "outputs": [
    {
     "data": {
      "text/latex": [
       "$d^2-2ad+a^2 = b - 12dg+36g^2$\n"
      ],
      "text/plain": [
       "<IPython.core.display.Latex object>"
      ]
     },
     "metadata": {},
     "output_type": "display_data"
    }
   ],
   "source": [
    "%%latex\n",
    "$d^2-2ad+a^2 = b - 12dg+36g^2$"
   ]
  },
  {
   "cell_type": "code",
   "execution_count": 29,
   "id": "59d44893-216e-4eda-844b-ef2c12312797",
   "metadata": {},
   "outputs": [
    {
     "data": {
      "text/latex": [
       "$a=6g$\n"
      ],
      "text/plain": [
       "<IPython.core.display.Latex object>"
      ]
     },
     "metadata": {},
     "output_type": "display_data"
    }
   ],
   "source": [
    "%%latex\n",
    "$a=6g$"
   ]
  },
  {
   "cell_type": "code",
   "execution_count": 32,
   "id": "d13e82ab-0335-463e-99d1-68dd75ff19e0",
   "metadata": {},
   "outputs": [
    {
     "data": {
      "text/latex": [
       "$d^2-2(6g)d+(6g)^2 = b - 12dg+36g^2$\n"
      ],
      "text/plain": [
       "<IPython.core.display.Latex object>"
      ]
     },
     "metadata": {},
     "output_type": "display_data"
    }
   ],
   "source": [
    "%%latex\n",
    "$d^2-2(6g)d+(6g)^2 = b - 12dg+36g^2$"
   ]
  },
  {
   "cell_type": "code",
   "execution_count": 33,
   "id": "df962abe-4e3f-4736-a636-ed0f57cd5e37",
   "metadata": {},
   "outputs": [
    {
     "data": {
      "text/latex": [
       "$d^2-12gd+36g^2 = b - 12dg+36g^2$\n"
      ],
      "text/plain": [
       "<IPython.core.display.Latex object>"
      ]
     },
     "metadata": {},
     "output_type": "display_data"
    }
   ],
   "source": [
    "%%latex\n",
    "$d^2-12gd+36g^2 = b - 12dg+36g^2$"
   ]
  },
  {
   "cell_type": "code",
   "execution_count": 9,
   "id": "a6b13aba-7a84-4187-b54f-4dfa9eb49281",
   "metadata": {},
   "outputs": [
    {
     "data": {
      "text/latex": [
       "$5*(x+y+z)-7(x-y+z)-8(x+y-z)$\n",
       "\n",
       "$=5*x+5*y+5*z-7x+(-7)(-y)+(-7)z-8x-8y-8*(-z)$\n",
       "\n",
       "$=5*x+5*y+5*z-7x+7y-7z-8x-8y+8z$\n",
       "\n",
       "$=-10x+4y+6z$\n"
      ],
      "text/plain": [
       "<IPython.core.display.Latex object>"
      ]
     },
     "metadata": {},
     "output_type": "display_data"
    }
   ],
   "source": [
    "%%latex\n",
    "$5*(x+y+z)-7(x-y+z)-8(x+y-z)$\n",
    "\n",
    "$=5*x+5*y+5*z-7x+(-7)(-y)+(-7)z-8x-8y-8*(-z)$\n",
    "\n",
    "$=5*x+5*y+5*z-7x+7y-7z-8x-8y+8z$\n",
    "\n",
    "$=-10x+4y+6z$"
   ]
  },
  {
   "cell_type": "code",
   "execution_count": 12,
   "id": "c1e9dfa4-9d5a-4188-a693-c865b86ae124",
   "metadata": {},
   "outputs": [
    {
     "data": {
      "text/latex": [
       "\n",
       "$25m + (13n - 8z) + (5z + 7m) - (11m + 5n) - (13z-17n)$\n",
       "\n",
       "$= 25m + 13n - 8z + 5z + 7m - 11m - 5n - 13z+17n$\n",
       "\n",
       "$= 21m + 25n - 16z$\n"
      ],
      "text/plain": [
       "<IPython.core.display.Latex object>"
      ]
     },
     "metadata": {},
     "output_type": "display_data"
    }
   ],
   "source": [
    "%%latex\n",
    "\n",
    "$25m + (13n - 8z) + (5z + 7m) - (11m + 5n) - (13z-17n)$\n",
    "\n",
    "$= 25m + 13n - 8z + 5z + 7m - 11m - 5n - 13z+17n$\n",
    "\n",
    "$= 21m + 25n - 16z$"
   ]
  },
  {
   "cell_type": "code",
   "execution_count": 16,
   "id": "2a34fb7a-358d-4ff5-9bd8-2657d7b32b91",
   "metadata": {},
   "outputs": [
    {
     "data": {
      "text/latex": [
       "\n",
       "$69p + [13q - (17p+11q)]-[11p-(13p-17q)]$\n",
       "\n",
       "$= 69p + [13q - 17p-11q]-[11p-13p+17q]$\n",
       "\n",
       "$= 69p + [2q - 17p]-[-2p+17q]$\n",
       "\n",
       "$= 69p + 2q - 17p+2p-17q$\n",
       "\n",
       "$= 54p -15q$\n"
      ],
      "text/plain": [
       "<IPython.core.display.Latex object>"
      ]
     },
     "metadata": {},
     "output_type": "display_data"
    }
   ],
   "source": [
    "%%latex\n",
    "\n",
    "$69p + [13q - (17p+11q)]-[11p-(13p-17q)]$\n",
    "\n",
    "$= 69p + [13q - 17p-11q]-[11p-13p+17q]$\n",
    "\n",
    "$= 69p + [2q - 17p]-[-2p+17q]$\n",
    "\n",
    "$= 69p + 2q - 17p+2p-17q$\n",
    "\n",
    "$= 54p -15q$"
   ]
  },
  {
   "cell_type": "code",
   "execution_count": 21,
   "id": "0af750dc-7ae3-4872-8de3-1997a56bfce6",
   "metadata": {},
   "outputs": [
    {
     "data": {
      "text/latex": [
       "\n",
       "$(3a+5b)-\\{11a-[5c-(9b-8a)]+13b\\}$\n",
       "\n",
       "$=3a+5b-\\{11a-[5c-9b+8a]+13b\\}$\n",
       "\n",
       "$=3a+5b-\\{11a-5c+9b-8a+13b\\}$\n",
       "\n",
       "$=3a+5b-11a+5c-9b+8a-13b$\n",
       "\n",
       "$=-17b+5b$\n"
      ],
      "text/plain": [
       "<IPython.core.display.Latex object>"
      ]
     },
     "metadata": {},
     "output_type": "display_data"
    }
   ],
   "source": [
    "%%latex\n",
    "\n",
    "$(3a+5b)-\\{11a-[5c-(9b-8a)]+13b\\}$\n",
    "\n",
    "$=3a+5b-\\{11a-[5c-9b+8a]+13b\\}$\n",
    "\n",
    "$=3a+5b-\\{11a-5c+9b-8a+13b\\}$\n",
    "\n",
    "$=3a+5b-11a+5c-9b+8a-13b$\n",
    "\n",
    "$=-17b+5b$"
   ]
  },
  {
   "cell_type": "code",
   "execution_count": 3,
   "id": "a86e41cc-f8b2-411f-b3eb-91dc50c18dd7",
   "metadata": {},
   "outputs": [
    {
     "data": {
      "text/latex": [
       "\n",
       "$(a-b)*(2x+3y)-(a-b)(x-y)+(a-b)(x-3y)$\n",
       "\n",
       "$=(a-b)*((2x+3y)-(x-y)+(x-3y))$\n",
       "\n",
       "$=(a-b)*(2x+3y-x+y+x-3y)$\n",
       "\n",
       "$=(a-b)*(2x+y)$\n"
      ],
      "text/plain": [
       "<IPython.core.display.Latex object>"
      ]
     },
     "metadata": {},
     "output_type": "display_data"
    }
   ],
   "source": [
    "%%latex\n",
    "\n",
    "$(a-b)*(2x+3y)-(a-b)(x-y)+(a-b)(x-3y)$\n",
    "\n",
    "$=(a-b)*((2x+3y)-(x-y)+(x-3y))$\n",
    "\n",
    "$=(a-b)*(2x+3y-x+y+x-3y)$\n",
    "\n",
    "$=(a-b)*(2x+y)$"
   ]
  },
  {
   "cell_type": "code",
   "execution_count": 4,
   "id": "0b684d78-5a1e-4eb1-928a-025a3a4bee45",
   "metadata": {},
   "outputs": [
    {
     "data": {
      "text/latex": [
       "\n",
       "$b^2(b-c)+c^2(c-b)$\n",
       "\n",
       "$=b^2(b-c)+c^2(-1(-c+b))$\n",
       "\n",
       "$=b^2(b-c)-c^2(b-c)$\n",
       "\n",
       "$=(b^2-c^2)(b-c)$\n"
      ],
      "text/plain": [
       "<IPython.core.display.Latex object>"
      ]
     },
     "metadata": {},
     "output_type": "display_data"
    }
   ],
   "source": [
    "%%latex\n",
    "\n",
    "$b^2(b-c)+c^2(c-b)$\n",
    "\n",
    "$=b^2(b-c)+c^2(-1(-c+b))$\n",
    "\n",
    "$=b^2(b-c)-c^2(b-c)$\n",
    "\n",
    "$=(b^2-c^2)(b-c)$\n"
   ]
  },
  {
   "cell_type": "code",
   "execution_count": null,
   "id": "b35ffbf4-5c40-444f-9b86-ce56949bd453",
   "metadata": {},
   "outputs": [],
   "source": []
  }
 ],
 "metadata": {
  "kernelspec": {
   "display_name": "Python 3 (ipykernel)",
   "language": "python",
   "name": "python3"
  },
  "language_info": {
   "codemirror_mode": {
    "name": "ipython",
    "version": 3
   },
   "file_extension": ".py",
   "mimetype": "text/x-python",
   "name": "python",
   "nbconvert_exporter": "python",
   "pygments_lexer": "ipython3",
   "version": "3.12.10"
  }
 },
 "nbformat": 4,
 "nbformat_minor": 5
}
